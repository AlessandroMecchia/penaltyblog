{
 "cells": [
  {
   "attachments": {},
   "cell_type": "markdown",
   "id": "590466c4-32bc-4d3e-89b1-66f15ef61d56",
   "metadata": {},
   "source": [
    "# Elo Ratings"
   ]
  },
  {
   "cell_type": "code",
   "execution_count": 1,
   "id": "a23baca5-1387-4d56-9c8a-59bf2633bd84",
   "metadata": {},
   "outputs": [],
   "source": [
    "import penaltyblog as pb"
   ]
  },
  {
   "cell_type": "code",
   "execution_count": 2,
   "id": "7391a72e-5f31-417b-8900-c03d4a056248",
   "metadata": {},
   "outputs": [],
   "source": [
    "elo = pb.ratings.Elo()"
   ]
  },
  {
   "attachments": {},
   "cell_type": "markdown",
   "id": "051731c6",
   "metadata": {},
   "source": [
    "## New Teams Default to 1500 Elo"
   ]
  },
  {
   "cell_type": "code",
   "execution_count": 3,
   "id": "bea84cd8-7e75-4863-9ece-349870e19e53",
   "metadata": {},
   "outputs": [
    {
     "data": {
      "text/plain": [
       "(1500.0, 1500.0)"
      ]
     },
     "execution_count": 3,
     "metadata": {},
     "output_type": "execute_result"
    }
   ],
   "source": [
    "elo.get_team_rating(\"Team A\"), elo.get_team_rating(\"Team B\")"
   ]
  },
  {
   "cell_type": "markdown",
   "id": "53f5a891-798c-470d-ac98-145441d44191",
   "metadata": {},
   "source": [
    "## Predict Match Results"
   ]
  },
  {
   "cell_type": "code",
   "execution_count": 4,
   "id": "f862a5b6-1120-4e10-9527-45e39c83439b",
   "metadata": {},
   "outputs": [
    {
     "data": {
      "text/plain": [
       "{'home_win': np.float64(0.5060806246811322),\n",
       " 'draw': np.float64(0.20932932618252026),\n",
       " 'away_win': np.float64(0.28459004913634756)}"
      ]
     },
     "execution_count": 4,
     "metadata": {},
     "output_type": "execute_result"
    }
   ],
   "source": [
    "elo.calculate_match_probabilities(\"Team A\", \"Team B\")"
   ]
  },
  {
   "attachments": {},
   "cell_type": "markdown",
   "id": "79b48cee",
   "metadata": {},
   "source": [
    "## Update Ratings"
   ]
  },
  {
   "cell_type": "code",
   "execution_count": 5,
   "id": "9fc2e8b0-d55f-45c4-bb23-69cf0fdcf56c",
   "metadata": {},
   "outputs": [],
   "source": [
    "elo.update_ratings(\"Team A\", \"Team B\", 0)"
   ]
  },
  {
   "attachments": {},
   "cell_type": "markdown",
   "id": "3597a9d5",
   "metadata": {},
   "source": [
    "## Get New Ratings"
   ]
  },
  {
   "cell_type": "code",
   "execution_count": 6,
   "id": "1e0c988e-2d52-479f-903e-1cac01731c4f",
   "metadata": {},
   "outputs": [
    {
     "data": {
      "text/plain": [
       "1507.1987000039423"
      ]
     },
     "execution_count": 6,
     "metadata": {},
     "output_type": "execute_result"
    }
   ],
   "source": [
    "elo.get_team_rating(\"Team A\")"
   ]
  }
 ],
 "metadata": {
  "kernelspec": {
   "display_name": "Python 3 (ipykernel)",
   "language": "python",
   "name": "python3"
  },
  "language_info": {
   "codemirror_mode": {
    "name": "ipython",
    "version": 3
   },
   "file_extension": ".py",
   "mimetype": "text/x-python",
   "name": "python",
   "nbconvert_exporter": "python",
   "pygments_lexer": "ipython3",
   "version": "3.13.1"
  }
 },
 "nbformat": 4,
 "nbformat_minor": 5
}
