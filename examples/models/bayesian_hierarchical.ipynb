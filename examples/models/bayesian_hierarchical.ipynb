{
 "cells": [
  {
   "cell_type": "markdown",
   "id": "81215b75-f5f8-4c17-9cd4-08b1b0ed4234",
   "metadata": {},
   "source": [
    "# Bayesian Hierarchical Model"
   ]
  },
  {
   "cell_type": "code",
   "execution_count": 1,
   "id": "1f931497-c1f9-4cb4-969a-058676e42a24",
   "metadata": {
    "tags": []
   },
   "outputs": [],
   "source": [
    "import sys\n",
    "\n",
    "sys.path.append(\"../../\")\n",
    "\n",
    "import penaltyblog as pb"
   ]
  },
  {
   "cell_type": "markdown",
   "id": "4a1b5c76-8f47-4f59-8351-d5add2f69309",
   "metadata": {},
   "source": [
    "## Get data from football-data.co.uk"
   ]
  },
  {
   "cell_type": "code",
   "execution_count": 2,
   "id": "949b129d-e4e5-4975-8318-dd601d918e90",
   "metadata": {
    "tags": []
   },
   "outputs": [
    {
     "data": {
      "text/html": [
       "<div>\n",
       "<style scoped>\n",
       "    .dataframe tbody tr th:only-of-type {\n",
       "        vertical-align: middle;\n",
       "    }\n",
       "\n",
       "    .dataframe tbody tr th {\n",
       "        vertical-align: top;\n",
       "    }\n",
       "\n",
       "    .dataframe thead th {\n",
       "        text-align: right;\n",
       "    }\n",
       "</style>\n",
       "<table border=\"1\" class=\"dataframe\">\n",
       "  <thead>\n",
       "    <tr style=\"text-align: right;\">\n",
       "      <th></th>\n",
       "      <th>date</th>\n",
       "      <th>datetime</th>\n",
       "      <th>season</th>\n",
       "      <th>competition</th>\n",
       "      <th>div</th>\n",
       "      <th>time</th>\n",
       "      <th>team_home</th>\n",
       "      <th>team_away</th>\n",
       "      <th>fthg</th>\n",
       "      <th>ftag</th>\n",
       "      <th>...</th>\n",
       "      <th>b365_cahh</th>\n",
       "      <th>b365_caha</th>\n",
       "      <th>pcahh</th>\n",
       "      <th>pcaha</th>\n",
       "      <th>max_cahh</th>\n",
       "      <th>max_caha</th>\n",
       "      <th>avg_cahh</th>\n",
       "      <th>avg_caha</th>\n",
       "      <th>goals_home</th>\n",
       "      <th>goals_away</th>\n",
       "    </tr>\n",
       "    <tr>\n",
       "      <th>id</th>\n",
       "      <th></th>\n",
       "      <th></th>\n",
       "      <th></th>\n",
       "      <th></th>\n",
       "      <th></th>\n",
       "      <th></th>\n",
       "      <th></th>\n",
       "      <th></th>\n",
       "      <th></th>\n",
       "      <th></th>\n",
       "      <th></th>\n",
       "      <th></th>\n",
       "      <th></th>\n",
       "      <th></th>\n",
       "      <th></th>\n",
       "      <th></th>\n",
       "      <th></th>\n",
       "      <th></th>\n",
       "      <th></th>\n",
       "      <th></th>\n",
       "      <th></th>\n",
       "    </tr>\n",
       "  </thead>\n",
       "  <tbody>\n",
       "    <tr>\n",
       "      <th>1565308800---liverpool---norwich</th>\n",
       "      <td>2019-08-09</td>\n",
       "      <td>2019-08-09 20:00:00</td>\n",
       "      <td>2019-2020</td>\n",
       "      <td>ENG Premier League</td>\n",
       "      <td>E0</td>\n",
       "      <td>20:00</td>\n",
       "      <td>Liverpool</td>\n",
       "      <td>Norwich</td>\n",
       "      <td>4</td>\n",
       "      <td>1</td>\n",
       "      <td>...</td>\n",
       "      <td>1.91</td>\n",
       "      <td>1.99</td>\n",
       "      <td>1.94</td>\n",
       "      <td>1.98</td>\n",
       "      <td>1.99</td>\n",
       "      <td>2.07</td>\n",
       "      <td>1.90</td>\n",
       "      <td>1.99</td>\n",
       "      <td>4</td>\n",
       "      <td>1</td>\n",
       "    </tr>\n",
       "    <tr>\n",
       "      <th>1565395200---bournemouth---sheffield_united</th>\n",
       "      <td>2019-08-10</td>\n",
       "      <td>2019-08-10 15:00:00</td>\n",
       "      <td>2019-2020</td>\n",
       "      <td>ENG Premier League</td>\n",
       "      <td>E0</td>\n",
       "      <td>15:00</td>\n",
       "      <td>Bournemouth</td>\n",
       "      <td>Sheffield United</td>\n",
       "      <td>1</td>\n",
       "      <td>1</td>\n",
       "      <td>...</td>\n",
       "      <td>1.95</td>\n",
       "      <td>1.95</td>\n",
       "      <td>1.98</td>\n",
       "      <td>1.95</td>\n",
       "      <td>2.00</td>\n",
       "      <td>1.96</td>\n",
       "      <td>1.96</td>\n",
       "      <td>1.92</td>\n",
       "      <td>1</td>\n",
       "      <td>1</td>\n",
       "    </tr>\n",
       "    <tr>\n",
       "      <th>1565395200---burnley---southampton</th>\n",
       "      <td>2019-08-10</td>\n",
       "      <td>2019-08-10 15:00:00</td>\n",
       "      <td>2019-2020</td>\n",
       "      <td>ENG Premier League</td>\n",
       "      <td>E0</td>\n",
       "      <td>15:00</td>\n",
       "      <td>Burnley</td>\n",
       "      <td>Southampton</td>\n",
       "      <td>3</td>\n",
       "      <td>0</td>\n",
       "      <td>...</td>\n",
       "      <td>1.87</td>\n",
       "      <td>2.03</td>\n",
       "      <td>1.89</td>\n",
       "      <td>2.03</td>\n",
       "      <td>1.90</td>\n",
       "      <td>2.07</td>\n",
       "      <td>1.86</td>\n",
       "      <td>2.02</td>\n",
       "      <td>3</td>\n",
       "      <td>0</td>\n",
       "    </tr>\n",
       "    <tr>\n",
       "      <th>1565395200---crystal_palace---everton</th>\n",
       "      <td>2019-08-10</td>\n",
       "      <td>2019-08-10 15:00:00</td>\n",
       "      <td>2019-2020</td>\n",
       "      <td>ENG Premier League</td>\n",
       "      <td>E0</td>\n",
       "      <td>15:00</td>\n",
       "      <td>Crystal Palace</td>\n",
       "      <td>Everton</td>\n",
       "      <td>0</td>\n",
       "      <td>0</td>\n",
       "      <td>...</td>\n",
       "      <td>1.82</td>\n",
       "      <td>2.08</td>\n",
       "      <td>1.97</td>\n",
       "      <td>1.96</td>\n",
       "      <td>2.03</td>\n",
       "      <td>2.08</td>\n",
       "      <td>1.96</td>\n",
       "      <td>1.93</td>\n",
       "      <td>0</td>\n",
       "      <td>0</td>\n",
       "    </tr>\n",
       "    <tr>\n",
       "      <th>1565395200---tottenham---aston_villa</th>\n",
       "      <td>2019-08-10</td>\n",
       "      <td>2019-08-10 17:30:00</td>\n",
       "      <td>2019-2020</td>\n",
       "      <td>ENG Premier League</td>\n",
       "      <td>E0</td>\n",
       "      <td>17:30</td>\n",
       "      <td>Tottenham</td>\n",
       "      <td>Aston Villa</td>\n",
       "      <td>3</td>\n",
       "      <td>1</td>\n",
       "      <td>...</td>\n",
       "      <td>2.10</td>\n",
       "      <td>1.70</td>\n",
       "      <td>2.18</td>\n",
       "      <td>1.77</td>\n",
       "      <td>2.21</td>\n",
       "      <td>1.87</td>\n",
       "      <td>2.08</td>\n",
       "      <td>1.80</td>\n",
       "      <td>3</td>\n",
       "      <td>1</td>\n",
       "    </tr>\n",
       "  </tbody>\n",
       "</table>\n",
       "<p>5 rows × 111 columns</p>\n",
       "</div>"
      ],
      "text/plain": [
       "                                                  date            datetime  \\\n",
       "id                                                                           \n",
       "1565308800---liverpool---norwich            2019-08-09 2019-08-09 20:00:00   \n",
       "1565395200---bournemouth---sheffield_united 2019-08-10 2019-08-10 15:00:00   \n",
       "1565395200---burnley---southampton          2019-08-10 2019-08-10 15:00:00   \n",
       "1565395200---crystal_palace---everton       2019-08-10 2019-08-10 15:00:00   \n",
       "1565395200---tottenham---aston_villa        2019-08-10 2019-08-10 17:30:00   \n",
       "\n",
       "                                                season         competition  \\\n",
       "id                                                                           \n",
       "1565308800---liverpool---norwich             2019-2020  ENG Premier League   \n",
       "1565395200---bournemouth---sheffield_united  2019-2020  ENG Premier League   \n",
       "1565395200---burnley---southampton           2019-2020  ENG Premier League   \n",
       "1565395200---crystal_palace---everton        2019-2020  ENG Premier League   \n",
       "1565395200---tottenham---aston_villa         2019-2020  ENG Premier League   \n",
       "\n",
       "                                            div   time       team_home  \\\n",
       "id                                                                       \n",
       "1565308800---liverpool---norwich             E0  20:00       Liverpool   \n",
       "1565395200---bournemouth---sheffield_united  E0  15:00     Bournemouth   \n",
       "1565395200---burnley---southampton           E0  15:00         Burnley   \n",
       "1565395200---crystal_palace---everton        E0  15:00  Crystal Palace   \n",
       "1565395200---tottenham---aston_villa         E0  17:30       Tottenham   \n",
       "\n",
       "                                                    team_away  fthg  ftag  \\\n",
       "id                                                                          \n",
       "1565308800---liverpool---norwich                      Norwich     4     1   \n",
       "1565395200---bournemouth---sheffield_united  Sheffield United     1     1   \n",
       "1565395200---burnley---southampton                Southampton     3     0   \n",
       "1565395200---crystal_palace---everton                 Everton     0     0   \n",
       "1565395200---tottenham---aston_villa              Aston Villa     3     1   \n",
       "\n",
       "                                             ... b365_cahh  b365_caha  pcahh  \\\n",
       "id                                           ...                               \n",
       "1565308800---liverpool---norwich             ...      1.91       1.99   1.94   \n",
       "1565395200---bournemouth---sheffield_united  ...      1.95       1.95   1.98   \n",
       "1565395200---burnley---southampton           ...      1.87       2.03   1.89   \n",
       "1565395200---crystal_palace---everton        ...      1.82       2.08   1.97   \n",
       "1565395200---tottenham---aston_villa         ...      2.10       1.70   2.18   \n",
       "\n",
       "                                            pcaha max_cahh  max_caha  \\\n",
       "id                                                                     \n",
       "1565308800---liverpool---norwich             1.98     1.99      2.07   \n",
       "1565395200---bournemouth---sheffield_united  1.95     2.00      1.96   \n",
       "1565395200---burnley---southampton           2.03     1.90      2.07   \n",
       "1565395200---crystal_palace---everton        1.96     2.03      2.08   \n",
       "1565395200---tottenham---aston_villa         1.77     2.21      1.87   \n",
       "\n",
       "                                             avg_cahh  avg_caha  goals_home  \\\n",
       "id                                                                            \n",
       "1565308800---liverpool---norwich                 1.90      1.99           4   \n",
       "1565395200---bournemouth---sheffield_united      1.96      1.92           1   \n",
       "1565395200---burnley---southampton               1.86      2.02           3   \n",
       "1565395200---crystal_palace---everton            1.96      1.93           0   \n",
       "1565395200---tottenham---aston_villa             2.08      1.80           3   \n",
       "\n",
       "                                             goals_away  \n",
       "id                                                       \n",
       "1565308800---liverpool---norwich                      1  \n",
       "1565395200---bournemouth---sheffield_united           1  \n",
       "1565395200---burnley---southampton                    0  \n",
       "1565395200---crystal_palace---everton                 0  \n",
       "1565395200---tottenham---aston_villa                  1  \n",
       "\n",
       "[5 rows x 111 columns]"
      ]
     },
     "execution_count": 2,
     "metadata": {},
     "output_type": "execute_result"
    }
   ],
   "source": [
    "fb = pb.scrapers.FootballData(\"ENG Premier League\", \"2019-2020\")\n",
    "df = fb.get_fixtures()\n",
    "\n",
    "df.head()"
   ]
  },
  {
   "cell_type": "markdown",
   "id": "9257f0fc-5f2b-402f-9209-d005d14880be",
   "metadata": {},
   "source": [
    "## Train the Model"
   ]
  },
  {
   "cell_type": "code",
   "execution_count": 3,
   "id": "7d39d92f-6fa0-4a2a-8a48-22d214e38efc",
   "metadata": {
    "tags": []
   },
   "outputs": [
    {
     "name": "stderr",
     "output_type": "stream",
     "text": [
      "20:22:39 - cmdstanpy - INFO - compiling stan file /private/var/folders/qg/1pn4sbxj7h91pv3skp6h118c0000gn/T/tmphg8nmo7h.stan to exe file /private/var/folders/qg/1pn4sbxj7h91pv3skp6h118c0000gn/T/tmphg8nmo7h\n",
      "20:22:45 - cmdstanpy - INFO - compiled model executable: /private/var/folders/qg/1pn4sbxj7h91pv3skp6h118c0000gn/T/tmphg8nmo7h\n",
      "20:22:45 - cmdstanpy - INFO - CmdStan start processing\n"
     ]
    },
    {
     "data": {
      "application/vnd.jupyter.widget-view+json": {
       "model_id": "2ef117083a0f4d73b4cfc7aef3a572f4",
       "version_major": 2,
       "version_minor": 0
      },
      "text/plain": [
       "chain 1 |          | 00:00 Status"
      ]
     },
     "metadata": {},
     "output_type": "display_data"
    },
    {
     "data": {
      "application/vnd.jupyter.widget-view+json": {
       "model_id": "ab70447ec1b443e59922e31e2243be07",
       "version_major": 2,
       "version_minor": 0
      },
      "text/plain": [
       "chain 2 |          | 00:00 Status"
      ]
     },
     "metadata": {},
     "output_type": "display_data"
    },
    {
     "data": {
      "application/vnd.jupyter.widget-view+json": {
       "model_id": "34c6b1cf95e54eee84112208ef06ce0f",
       "version_major": 2,
       "version_minor": 0
      },
      "text/plain": [
       "chain 3 |          | 00:00 Status"
      ]
     },
     "metadata": {},
     "output_type": "display_data"
    },
    {
     "data": {
      "application/vnd.jupyter.widget-view+json": {
       "model_id": "efeb2ace863b40a4855af74e66a5bfd6",
       "version_major": 2,
       "version_minor": 0
      },
      "text/plain": [
       "chain 4 |          | 00:00 Status"
      ]
     },
     "metadata": {},
     "output_type": "display_data"
    },
    {
     "name": "stdout",
     "output_type": "stream",
     "text": [
      "                                                                                                                                                                                                                                                                                                                                "
     ]
    },
    {
     "name": "stderr",
     "output_type": "stream",
     "text": [
      "20:22:50 - cmdstanpy - INFO - CmdStan done processing.\n"
     ]
    },
    {
     "name": "stdout",
     "output_type": "stream",
     "text": [
      "\n"
     ]
    },
    {
     "data": {
      "text/plain": [
       "Module: Penaltyblog\n",
       "\n",
       "Model: Bayesian Hierarchical (Stan)\n",
       "\n",
       "Number of parameters: 42\n",
       "Team                 Attack               Defence             \n",
       "------------------------------------------------------------\n",
       "Arsenal              0.099                -0.04               \n",
       "Aston Villa          -0.148               0.203               \n",
       "Bournemouth          -0.169               0.177               \n",
       "Brighton             -0.197               0.035               \n",
       "Burnley              -0.121               -0.019              \n",
       "Chelsea              0.29                 0.053               \n",
       "Crystal Palace       -0.371               -0.026              \n",
       "Everton              -0.099               0.064               \n",
       "Leicester            0.255                -0.139              \n",
       "Liverpool            0.474                -0.26               \n",
       "Man City             0.651                -0.217              \n",
       "Man United           0.239                -0.222              \n",
       "Newcastle            -0.216               0.087               \n",
       "Norwich              -0.478               0.287               \n",
       "Sheffield United     -0.205               -0.187              \n",
       "Southampton          0.026                0.122               \n",
       "Tottenham            0.175                -0.052              \n",
       "Watford              -0.253               0.164               \n",
       "West Ham             -0.006               0.146               \n",
       "Wolves               0.015                -0.165              \n",
       "------------------------------------------------------------\n",
       "Home Advantage: 0.229\n",
       "Intercept: 0.117"
      ]
     },
     "execution_count": 3,
     "metadata": {},
     "output_type": "execute_result"
    }
   ],
   "source": [
    "clf = pb.models.BayesianHierarchicalGoalModel(\n",
    "    df[\"goals_home\"], df[\"goals_away\"], df[\"team_home\"], df[\"team_away\"]\n",
    ")\n",
    "clf.fit()"
   ]
  },
  {
   "cell_type": "markdown",
   "id": "63a12589-0066-431f-8444-92e2944b55a4",
   "metadata": {},
   "source": [
    "## The model's parameters"
   ]
  },
  {
   "cell_type": "code",
   "execution_count": 4,
   "id": "fc93ec32-d113-4155-a516-abfe58dc8469",
   "metadata": {
    "tags": []
   },
   "outputs": [
    {
     "data": {
      "text/plain": [
       "{'teams': ['Arsenal',\n",
       "  'Aston Villa',\n",
       "  'Bournemouth',\n",
       "  'Brighton',\n",
       "  'Burnley',\n",
       "  'Chelsea',\n",
       "  'Crystal Palace',\n",
       "  'Everton',\n",
       "  'Leicester',\n",
       "  'Liverpool',\n",
       "  'Man City',\n",
       "  'Man United',\n",
       "  'Newcastle',\n",
       "  'Norwich',\n",
       "  'Sheffield United',\n",
       "  'Southampton',\n",
       "  'Tottenham',\n",
       "  'Watford',\n",
       "  'West Ham',\n",
       "  'Wolves'],\n",
       " 'attack': {'Arsenal': np.float64(0.099),\n",
       "  'Aston Villa': np.float64(-0.148),\n",
       "  'Bournemouth': np.float64(-0.169),\n",
       "  'Brighton': np.float64(-0.197),\n",
       "  'Burnley': np.float64(-0.121),\n",
       "  'Chelsea': np.float64(0.29),\n",
       "  'Crystal Palace': np.float64(-0.371),\n",
       "  'Everton': np.float64(-0.099),\n",
       "  'Leicester': np.float64(0.255),\n",
       "  'Liverpool': np.float64(0.474),\n",
       "  'Man City': np.float64(0.651),\n",
       "  'Man United': np.float64(0.239),\n",
       "  'Newcastle': np.float64(-0.216),\n",
       "  'Norwich': np.float64(-0.478),\n",
       "  'Sheffield United': np.float64(-0.205),\n",
       "  'Southampton': np.float64(0.026),\n",
       "  'Tottenham': np.float64(0.175),\n",
       "  'Watford': np.float64(-0.253),\n",
       "  'West Ham': np.float64(-0.006),\n",
       "  'Wolves': np.float64(0.015)},\n",
       " 'defence': {'Arsenal': np.float64(-0.04),\n",
       "  'Aston Villa': np.float64(0.203),\n",
       "  'Bournemouth': np.float64(0.177),\n",
       "  'Brighton': np.float64(0.035),\n",
       "  'Burnley': np.float64(-0.019),\n",
       "  'Chelsea': np.float64(0.053),\n",
       "  'Crystal Palace': np.float64(-0.026),\n",
       "  'Everton': np.float64(0.064),\n",
       "  'Leicester': np.float64(-0.139),\n",
       "  'Liverpool': np.float64(-0.26),\n",
       "  'Man City': np.float64(-0.217),\n",
       "  'Man United': np.float64(-0.222),\n",
       "  'Newcastle': np.float64(0.087),\n",
       "  'Norwich': np.float64(0.287),\n",
       "  'Sheffield United': np.float64(-0.187),\n",
       "  'Southampton': np.float64(0.122),\n",
       "  'Tottenham': np.float64(-0.052),\n",
       "  'Watford': np.float64(0.164),\n",
       "  'West Ham': np.float64(0.146),\n",
       "  'Wolves': np.float64(-0.165)},\n",
       " 'home_advantage': np.float64(0.229),\n",
       " 'intercept': np.float64(0.117)}"
      ]
     },
     "execution_count": 4,
     "metadata": {},
     "output_type": "execute_result"
    }
   ],
   "source": [
    "clf.get_params()"
   ]
  },
  {
   "cell_type": "markdown",
   "id": "43bb1f12-7010-421b-bf93-bb8e1dba2df6",
   "metadata": {},
   "source": [
    "## Predict Match Outcomes"
   ]
  },
  {
   "cell_type": "code",
   "execution_count": 5,
   "id": "3a047b77-707d-46b6-bcf8-57f3356efee3",
   "metadata": {
    "tags": []
   },
   "outputs": [
    {
     "data": {
      "text/plain": [
       "Module: Penaltyblog\n",
       "\n",
       "Class: FootballProbabilityGrid\n",
       "\n",
       "Home Goal Expectation: 2.1497281411589464\n",
       "Away Goal Expectation: 0.9959201809830229\n",
       "\n",
       "Home Win: 0.6328171931362362\n",
       "Draw: 0.1977557946999546\n",
       "Away Win: 0.16942700210364045"
      ]
     },
     "execution_count": 5,
     "metadata": {},
     "output_type": "execute_result"
    }
   ],
   "source": [
    "probs = clf.predict(\"Liverpool\", \"Wolves\")\n",
    "probs"
   ]
  },
  {
   "cell_type": "markdown",
   "id": "2a5274e7-d13e-455b-8e77-a6f51ba6f830",
   "metadata": {},
   "source": [
    "### 1x2 Probabilities"
   ]
  },
  {
   "cell_type": "code",
   "execution_count": 6,
   "id": "cc1d6199-c35e-4ea3-bf82-a89c31a7277d",
   "metadata": {
    "tags": []
   },
   "outputs": [
    {
     "data": {
      "text/plain": [
       "[np.float64(0.6328171931362362),\n",
       " np.float64(0.1977557946999546),\n",
       " np.float64(0.16942700210364045)]"
      ]
     },
     "execution_count": 6,
     "metadata": {},
     "output_type": "execute_result"
    }
   ],
   "source": [
    "probs.home_draw_away"
   ]
  },
  {
   "cell_type": "code",
   "execution_count": 7,
   "id": "eef96983-d83d-4c39-bd49-47cb4a704ab4",
   "metadata": {
    "tags": []
   },
   "outputs": [
    {
     "data": {
      "text/plain": [
       "np.float64(0.6328171931362362)"
      ]
     },
     "execution_count": 7,
     "metadata": {},
     "output_type": "execute_result"
    }
   ],
   "source": [
    "probs.home_win"
   ]
  },
  {
   "cell_type": "code",
   "execution_count": 8,
   "id": "e08561b2-07ed-47b3-89d7-14c0a05cf854",
   "metadata": {
    "tags": []
   },
   "outputs": [
    {
     "data": {
      "text/plain": [
       "np.float64(0.1977557946999546)"
      ]
     },
     "execution_count": 8,
     "metadata": {},
     "output_type": "execute_result"
    }
   ],
   "source": [
    "probs.draw"
   ]
  },
  {
   "cell_type": "code",
   "execution_count": 9,
   "id": "594e21a7-9a75-49a3-b3e8-50fa4bd8ac51",
   "metadata": {
    "tags": []
   },
   "outputs": [
    {
     "data": {
      "text/plain": [
       "np.float64(0.16942700210364045)"
      ]
     },
     "execution_count": 9,
     "metadata": {},
     "output_type": "execute_result"
    }
   ],
   "source": [
    "probs.away_win"
   ]
  },
  {
   "cell_type": "markdown",
   "id": "9996be1b-acf8-4305-9bf0-6e4832505d47",
   "metadata": {},
   "source": [
    "### Probablity of Total Goals >1.5"
   ]
  },
  {
   "cell_type": "code",
   "execution_count": 10,
   "id": "8da5ea91-ff28-4c6d-b6bf-0d5ef417da2b",
   "metadata": {
    "tags": []
   },
   "outputs": [
    {
     "data": {
      "text/plain": [
       "np.float64(0.8150046007707431)"
      ]
     },
     "execution_count": 10,
     "metadata": {},
     "output_type": "execute_result"
    }
   ],
   "source": [
    "probs.total_goals(\"over\", 1.5)"
   ]
  },
  {
   "cell_type": "markdown",
   "id": "5a0876d3-9d69-4b63-ae8a-d2b3b8f40aa6",
   "metadata": {},
   "source": [
    "### Probability of Asian Handicap 1.5"
   ]
  },
  {
   "cell_type": "code",
   "execution_count": 11,
   "id": "280e7570-5010-4b39-8104-71ca27e4005a",
   "metadata": {
    "tags": []
   },
   "outputs": [
    {
     "data": {
      "text/plain": [
       "np.float64(0.402682342558149)"
      ]
     },
     "execution_count": 11,
     "metadata": {},
     "output_type": "execute_result"
    }
   ],
   "source": [
    "probs.asian_handicap(\"home\", 1.5)"
   ]
  },
  {
   "cell_type": "markdown",
   "id": "f1205e38-8afc-45fc-ba5f-59292aad9e21",
   "metadata": {},
   "source": [
    "## Probability of both teams scoring"
   ]
  },
  {
   "cell_type": "code",
   "execution_count": 12,
   "id": "1b63af09-9383-4c5a-ae1c-dadb1a57193a",
   "metadata": {
    "tags": []
   },
   "outputs": [
    {
     "data": {
      "text/plain": [
       "np.float64(0.5471141246810658)"
      ]
     },
     "execution_count": 12,
     "metadata": {},
     "output_type": "execute_result"
    }
   ],
   "source": [
    "probs.both_teams_to_score"
   ]
  },
  {
   "cell_type": "markdown",
   "id": "8d930734-bcb3-4be7-83b0-0f764d96ee8c",
   "metadata": {},
   "source": [
    "## Train the model with more recent data weighted to be more important"
   ]
  },
  {
   "cell_type": "code",
   "execution_count": 13,
   "id": "8e4a1060-0f19-4072-a116-c810629d50b4",
   "metadata": {
    "tags": []
   },
   "outputs": [
    {
     "name": "stderr",
     "output_type": "stream",
     "text": [
      "20:22:54 - cmdstanpy - INFO - compiling stan file /private/var/folders/qg/1pn4sbxj7h91pv3skp6h118c0000gn/T/tmpooi7zobg.stan to exe file /private/var/folders/qg/1pn4sbxj7h91pv3skp6h118c0000gn/T/tmpooi7zobg\n",
      "20:23:00 - cmdstanpy - INFO - compiled model executable: /private/var/folders/qg/1pn4sbxj7h91pv3skp6h118c0000gn/T/tmpooi7zobg\n",
      "20:23:00 - cmdstanpy - INFO - CmdStan start processing\n"
     ]
    },
    {
     "data": {
      "application/vnd.jupyter.widget-view+json": {
       "model_id": "0d1c3e1ac6a346bd9122c9fdebaff740",
       "version_major": 2,
       "version_minor": 0
      },
      "text/plain": [
       "chain 1 |          | 00:00 Status"
      ]
     },
     "metadata": {},
     "output_type": "display_data"
    },
    {
     "data": {
      "application/vnd.jupyter.widget-view+json": {
       "model_id": "690f3415f63d40f08968259338f108de",
       "version_major": 2,
       "version_minor": 0
      },
      "text/plain": [
       "chain 2 |          | 00:00 Status"
      ]
     },
     "metadata": {},
     "output_type": "display_data"
    },
    {
     "data": {
      "application/vnd.jupyter.widget-view+json": {
       "model_id": "8e25f318f53e4ffaa1d5d4853a350ea6",
       "version_major": 2,
       "version_minor": 0
      },
      "text/plain": [
       "chain 3 |          | 00:00 Status"
      ]
     },
     "metadata": {},
     "output_type": "display_data"
    },
    {
     "data": {
      "application/vnd.jupyter.widget-view+json": {
       "model_id": "d3e60d2dd087451b8bab135a3c28c635",
       "version_major": 2,
       "version_minor": 0
      },
      "text/plain": [
       "chain 4 |          | 00:00 Status"
      ]
     },
     "metadata": {},
     "output_type": "display_data"
    },
    {
     "name": "stdout",
     "output_type": "stream",
     "text": [
      "                                                                                                                                                                                                                                                                                                                                "
     ]
    },
    {
     "name": "stderr",
     "output_type": "stream",
     "text": [
      "20:23:06 - cmdstanpy - INFO - CmdStan done processing.\n"
     ]
    },
    {
     "name": "stdout",
     "output_type": "stream",
     "text": [
      "\n"
     ]
    },
    {
     "data": {
      "text/plain": [
       "Module: Penaltyblog\n",
       "\n",
       "Model: Bayesian Hierarchical (Stan)\n",
       "\n",
       "Number of parameters: 42\n",
       "Team                 Attack               Defence             \n",
       "------------------------------------------------------------\n",
       "Arsenal              0.106                -0.047              \n",
       "Aston Villa          -0.165               0.18                \n",
       "Bournemouth          -0.16                0.175               \n",
       "Brighton             -0.201               0.034               \n",
       "Burnley              -0.125               -0.03               \n",
       "Chelsea              0.288                0.053               \n",
       "Crystal Palace       -0.366               -0.008              \n",
       "Everton              -0.103               0.055               \n",
       "Leicester            0.227                -0.114              \n",
       "Liverpool            0.461                -0.227              \n",
       "Man City             0.645                -0.22               \n",
       "Man United           0.257                -0.217              \n",
       "Newcastle            -0.191               0.09                \n",
       "Norwich              -0.5                 0.274               \n",
       "Sheffield United     -0.202               -0.166              \n",
       "Southampton          0.043                0.094               \n",
       "Tottenham            0.17                 -0.058              \n",
       "Watford              -0.228               0.158               \n",
       "West Ham             0.004                0.132               \n",
       "Wolves               0.009                -0.167              \n",
       "------------------------------------------------------------\n",
       "Home Advantage: 0.237\n",
       "Intercept: 0.111"
      ]
     },
     "execution_count": 13,
     "metadata": {},
     "output_type": "execute_result"
    }
   ],
   "source": [
    "weights = pb.models.dixon_coles_weights(df[\"date\"], 0.001)\n",
    "\n",
    "clf = pb.models.BayesianHierarchicalGoalModel(\n",
    "    df[\"goals_home\"], df[\"goals_away\"], df[\"team_home\"], df[\"team_away\"], weights\n",
    ")\n",
    "clf.fit()"
   ]
  },
  {
   "cell_type": "code",
   "execution_count": null,
   "id": "e035f38e-e5c5-4755-b3df-6b6336159641",
   "metadata": {},
   "outputs": [],
   "source": []
  }
 ],
 "metadata": {
  "kernelspec": {
   "display_name": "Python 3 (ipykernel)",
   "language": "python",
   "name": "python3"
  },
  "language_info": {
   "codemirror_mode": {
    "name": "ipython",
    "version": 3
   },
   "file_extension": ".py",
   "mimetype": "text/x-python",
   "name": "python",
   "nbconvert_exporter": "python",
   "pygments_lexer": "ipython3",
   "version": "3.13.0"
  }
 },
 "nbformat": 4,
 "nbformat_minor": 5
}
