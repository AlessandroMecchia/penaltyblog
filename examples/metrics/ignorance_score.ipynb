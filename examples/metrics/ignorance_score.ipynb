{
 "cells": [
  {
   "cell_type": "code",
   "execution_count": 1,
   "id": "020e4320-ccad-4b79-b63c-8eb0c120cad6",
   "metadata": {},
   "outputs": [],
   "source": [
    "import penaltyblog as pb"
   ]
  },
  {
   "cell_type": "code",
   "execution_count": 2,
   "id": "cabbbde4-aad2-4748-b029-80ec027e9a1e",
   "metadata": {},
   "outputs": [],
   "source": [
    "predictions = [\n",
    "    [1, 0, 0],\n",
    "    [0.9, 0.1, 0],\n",
    "    [0.8, 0.1, 0.1],\n",
    "    [0.5, 0.25, 0.25],\n",
    "    [0.35, 0.3, 0.35],\n",
    "    [0.6, 0.3, 0.1],\n",
    "    [0.6, 0.25, 0.15],\n",
    "    [0.6, 0.15, 0.25],\n",
    "    [0.57, 0.33, 0.1],\n",
    "    [0.6, 0.2, 0.2],\n",
    "]\n",
    "\n",
    "observed = [0, 0, 0, 0, 1, 1, 0, 0, 0, 0]"
   ]
  },
  {
   "cell_type": "code",
   "execution_count": 3,
   "id": "1ab85f7c-2e96-4fc0-950a-7c013f01a26e",
   "metadata": {},
   "outputs": [
    {
     "data": {
      "text/plain": [
       "0.7969725334773428"
      ]
     },
     "execution_count": 3,
     "metadata": {},
     "output_type": "execute_result"
    }
   ],
   "source": [
    "pb.metrics.ignorance_score(predictions, observed)"
   ]
  }
 ],
 "metadata": {
  "kernelspec": {
   "display_name": "Python 3 (ipykernel)",
   "language": "python",
   "name": "python3"
  },
  "language_info": {
   "codemirror_mode": {
    "name": "ipython",
    "version": 3
   },
   "file_extension": ".py",
   "mimetype": "text/x-python",
   "name": "python",
   "nbconvert_exporter": "python",
   "pygments_lexer": "ipython3",
   "version": "3.13.1"
  }
 },
 "nbformat": 4,
 "nbformat_minor": 5
}
