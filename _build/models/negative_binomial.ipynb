{
 "cells": [
  {
   "cell_type": "markdown",
   "id": "81215b75-f5f8-4c17-9cd4-08b1b0ed4234",
   "metadata": {},
   "source": [
    "# Negative Binomial Model\n",
    "\n",
    "The Negative Binomial Goals Model is a statistical approach used to predict football match outcomes, especially useful when goal-scoring data exhibit overdispersion—variance greater than the mean — which standard Poisson models struggle to capture. \n",
    "\n",
    "By incorporating an additional parameter to account for this variability, the Negative Binomial model provides more accurate probability estimates for betting markets such as match results, total goals, and Asian handicaps. \n",
    "\n",
    "Its ability to handle highly variable scoring patterns makes it a valuable tool for more realistic and robust football predictions and betting analysis."
   ]
  },
  {
   "cell_type": "code",
   "execution_count": 1,
   "id": "1f931497-c1f9-4cb4-969a-058676e42a24",
   "metadata": {
    "tags": []
   },
   "outputs": [],
   "source": [
    "import penaltyblog as pb"
   ]
  },
  {
   "cell_type": "markdown",
   "id": "4a1b5c76-8f47-4f59-8351-d5add2f69309",
   "metadata": {},
   "source": [
    "## Get data from football-data.co.uk"
   ]
  },
  {
   "cell_type": "code",
   "execution_count": 2,
   "id": "949b129d-e4e5-4975-8318-dd601d918e90",
   "metadata": {
    "tags": []
   },
   "outputs": [
    {
     "data": {
      "text/html": [
       "<div>\n",
       "<style scoped>\n",
       "    .dataframe tbody tr th:only-of-type {\n",
       "        vertical-align: middle;\n",
       "    }\n",
       "\n",
       "    .dataframe tbody tr th {\n",
       "        vertical-align: top;\n",
       "    }\n",
       "\n",
       "    .dataframe thead th {\n",
       "        text-align: right;\n",
       "    }\n",
       "</style>\n",
       "<table border=\"1\" class=\"dataframe\">\n",
       "  <thead>\n",
       "    <tr style=\"text-align: right;\">\n",
       "      <th></th>\n",
       "      <th>date</th>\n",
       "      <th>datetime</th>\n",
       "      <th>season</th>\n",
       "      <th>competition</th>\n",
       "      <th>div</th>\n",
       "      <th>time</th>\n",
       "      <th>team_home</th>\n",
       "      <th>team_away</th>\n",
       "      <th>fthg</th>\n",
       "      <th>ftag</th>\n",
       "      <th>...</th>\n",
       "      <th>b365_cahh</th>\n",
       "      <th>b365_caha</th>\n",
       "      <th>pcahh</th>\n",
       "      <th>pcaha</th>\n",
       "      <th>max_cahh</th>\n",
       "      <th>max_caha</th>\n",
       "      <th>avg_cahh</th>\n",
       "      <th>avg_caha</th>\n",
       "      <th>goals_home</th>\n",
       "      <th>goals_away</th>\n",
       "    </tr>\n",
       "    <tr>\n",
       "      <th>id</th>\n",
       "      <th></th>\n",
       "      <th></th>\n",
       "      <th></th>\n",
       "      <th></th>\n",
       "      <th></th>\n",
       "      <th></th>\n",
       "      <th></th>\n",
       "      <th></th>\n",
       "      <th></th>\n",
       "      <th></th>\n",
       "      <th></th>\n",
       "      <th></th>\n",
       "      <th></th>\n",
       "      <th></th>\n",
       "      <th></th>\n",
       "      <th></th>\n",
       "      <th></th>\n",
       "      <th></th>\n",
       "      <th></th>\n",
       "      <th></th>\n",
       "      <th></th>\n",
       "    </tr>\n",
       "  </thead>\n",
       "  <tbody>\n",
       "    <tr>\n",
       "      <th>1565308800---liverpool---norwich</th>\n",
       "      <td>2019-08-09</td>\n",
       "      <td>2019-08-09 20:00:00</td>\n",
       "      <td>2019-2020</td>\n",
       "      <td>ENG Premier League</td>\n",
       "      <td>E0</td>\n",
       "      <td>20:00</td>\n",
       "      <td>Liverpool</td>\n",
       "      <td>Norwich</td>\n",
       "      <td>4</td>\n",
       "      <td>1</td>\n",
       "      <td>...</td>\n",
       "      <td>1.91</td>\n",
       "      <td>1.99</td>\n",
       "      <td>1.94</td>\n",
       "      <td>1.98</td>\n",
       "      <td>1.99</td>\n",
       "      <td>2.07</td>\n",
       "      <td>1.90</td>\n",
       "      <td>1.99</td>\n",
       "      <td>4</td>\n",
       "      <td>1</td>\n",
       "    </tr>\n",
       "    <tr>\n",
       "      <th>1565395200---bournemouth---sheffield_united</th>\n",
       "      <td>2019-08-10</td>\n",
       "      <td>2019-08-10 15:00:00</td>\n",
       "      <td>2019-2020</td>\n",
       "      <td>ENG Premier League</td>\n",
       "      <td>E0</td>\n",
       "      <td>15:00</td>\n",
       "      <td>Bournemouth</td>\n",
       "      <td>Sheffield United</td>\n",
       "      <td>1</td>\n",
       "      <td>1</td>\n",
       "      <td>...</td>\n",
       "      <td>1.95</td>\n",
       "      <td>1.95</td>\n",
       "      <td>1.98</td>\n",
       "      <td>1.95</td>\n",
       "      <td>2.00</td>\n",
       "      <td>1.96</td>\n",
       "      <td>1.96</td>\n",
       "      <td>1.92</td>\n",
       "      <td>1</td>\n",
       "      <td>1</td>\n",
       "    </tr>\n",
       "    <tr>\n",
       "      <th>1565395200---burnley---southampton</th>\n",
       "      <td>2019-08-10</td>\n",
       "      <td>2019-08-10 15:00:00</td>\n",
       "      <td>2019-2020</td>\n",
       "      <td>ENG Premier League</td>\n",
       "      <td>E0</td>\n",
       "      <td>15:00</td>\n",
       "      <td>Burnley</td>\n",
       "      <td>Southampton</td>\n",
       "      <td>3</td>\n",
       "      <td>0</td>\n",
       "      <td>...</td>\n",
       "      <td>1.87</td>\n",
       "      <td>2.03</td>\n",
       "      <td>1.89</td>\n",
       "      <td>2.03</td>\n",
       "      <td>1.90</td>\n",
       "      <td>2.07</td>\n",
       "      <td>1.86</td>\n",
       "      <td>2.02</td>\n",
       "      <td>3</td>\n",
       "      <td>0</td>\n",
       "    </tr>\n",
       "    <tr>\n",
       "      <th>1565395200---crystal_palace---everton</th>\n",
       "      <td>2019-08-10</td>\n",
       "      <td>2019-08-10 15:00:00</td>\n",
       "      <td>2019-2020</td>\n",
       "      <td>ENG Premier League</td>\n",
       "      <td>E0</td>\n",
       "      <td>15:00</td>\n",
       "      <td>Crystal Palace</td>\n",
       "      <td>Everton</td>\n",
       "      <td>0</td>\n",
       "      <td>0</td>\n",
       "      <td>...</td>\n",
       "      <td>1.82</td>\n",
       "      <td>2.08</td>\n",
       "      <td>1.97</td>\n",
       "      <td>1.96</td>\n",
       "      <td>2.03</td>\n",
       "      <td>2.08</td>\n",
       "      <td>1.96</td>\n",
       "      <td>1.93</td>\n",
       "      <td>0</td>\n",
       "      <td>0</td>\n",
       "    </tr>\n",
       "    <tr>\n",
       "      <th>1565395200---tottenham---aston_villa</th>\n",
       "      <td>2019-08-10</td>\n",
       "      <td>2019-08-10 17:30:00</td>\n",
       "      <td>2019-2020</td>\n",
       "      <td>ENG Premier League</td>\n",
       "      <td>E0</td>\n",
       "      <td>17:30</td>\n",
       "      <td>Tottenham</td>\n",
       "      <td>Aston Villa</td>\n",
       "      <td>3</td>\n",
       "      <td>1</td>\n",
       "      <td>...</td>\n",
       "      <td>2.10</td>\n",
       "      <td>1.70</td>\n",
       "      <td>2.18</td>\n",
       "      <td>1.77</td>\n",
       "      <td>2.21</td>\n",
       "      <td>1.87</td>\n",
       "      <td>2.08</td>\n",
       "      <td>1.80</td>\n",
       "      <td>3</td>\n",
       "      <td>1</td>\n",
       "    </tr>\n",
       "  </tbody>\n",
       "</table>\n",
       "<p>5 rows × 111 columns</p>\n",
       "</div>"
      ],
      "text/plain": [
       "                                                  date            datetime  \\\n",
       "id                                                                           \n",
       "1565308800---liverpool---norwich            2019-08-09 2019-08-09 20:00:00   \n",
       "1565395200---bournemouth---sheffield_united 2019-08-10 2019-08-10 15:00:00   \n",
       "1565395200---burnley---southampton          2019-08-10 2019-08-10 15:00:00   \n",
       "1565395200---crystal_palace---everton       2019-08-10 2019-08-10 15:00:00   \n",
       "1565395200---tottenham---aston_villa        2019-08-10 2019-08-10 17:30:00   \n",
       "\n",
       "                                                season         competition  \\\n",
       "id                                                                           \n",
       "1565308800---liverpool---norwich             2019-2020  ENG Premier League   \n",
       "1565395200---bournemouth---sheffield_united  2019-2020  ENG Premier League   \n",
       "1565395200---burnley---southampton           2019-2020  ENG Premier League   \n",
       "1565395200---crystal_palace---everton        2019-2020  ENG Premier League   \n",
       "1565395200---tottenham---aston_villa         2019-2020  ENG Premier League   \n",
       "\n",
       "                                            div   time       team_home  \\\n",
       "id                                                                       \n",
       "1565308800---liverpool---norwich             E0  20:00       Liverpool   \n",
       "1565395200---bournemouth---sheffield_united  E0  15:00     Bournemouth   \n",
       "1565395200---burnley---southampton           E0  15:00         Burnley   \n",
       "1565395200---crystal_palace---everton        E0  15:00  Crystal Palace   \n",
       "1565395200---tottenham---aston_villa         E0  17:30       Tottenham   \n",
       "\n",
       "                                                    team_away  fthg  ftag  \\\n",
       "id                                                                          \n",
       "1565308800---liverpool---norwich                      Norwich     4     1   \n",
       "1565395200---bournemouth---sheffield_united  Sheffield United     1     1   \n",
       "1565395200---burnley---southampton                Southampton     3     0   \n",
       "1565395200---crystal_palace---everton                 Everton     0     0   \n",
       "1565395200---tottenham---aston_villa              Aston Villa     3     1   \n",
       "\n",
       "                                             ... b365_cahh  b365_caha  pcahh  \\\n",
       "id                                           ...                               \n",
       "1565308800---liverpool---norwich             ...      1.91       1.99   1.94   \n",
       "1565395200---bournemouth---sheffield_united  ...      1.95       1.95   1.98   \n",
       "1565395200---burnley---southampton           ...      1.87       2.03   1.89   \n",
       "1565395200---crystal_palace---everton        ...      1.82       2.08   1.97   \n",
       "1565395200---tottenham---aston_villa         ...      2.10       1.70   2.18   \n",
       "\n",
       "                                            pcaha max_cahh  max_caha  \\\n",
       "id                                                                     \n",
       "1565308800---liverpool---norwich             1.98     1.99      2.07   \n",
       "1565395200---bournemouth---sheffield_united  1.95     2.00      1.96   \n",
       "1565395200---burnley---southampton           2.03     1.90      2.07   \n",
       "1565395200---crystal_palace---everton        1.96     2.03      2.08   \n",
       "1565395200---tottenham---aston_villa         1.77     2.21      1.87   \n",
       "\n",
       "                                             avg_cahh  avg_caha  goals_home  \\\n",
       "id                                                                            \n",
       "1565308800---liverpool---norwich                 1.90      1.99           4   \n",
       "1565395200---bournemouth---sheffield_united      1.96      1.92           1   \n",
       "1565395200---burnley---southampton               1.86      2.02           3   \n",
       "1565395200---crystal_palace---everton            1.96      1.93           0   \n",
       "1565395200---tottenham---aston_villa             2.08      1.80           3   \n",
       "\n",
       "                                             goals_away  \n",
       "id                                                       \n",
       "1565308800---liverpool---norwich                      1  \n",
       "1565395200---bournemouth---sheffield_united           1  \n",
       "1565395200---burnley---southampton                    0  \n",
       "1565395200---crystal_palace---everton                 0  \n",
       "1565395200---tottenham---aston_villa                  1  \n",
       "\n",
       "[5 rows x 111 columns]"
      ]
     },
     "execution_count": 2,
     "metadata": {},
     "output_type": "execute_result"
    }
   ],
   "source": [
    "fb = pb.scrapers.FootballData(\"ENG Premier League\", \"2019-2020\")\n",
    "df = fb.get_fixtures()\n",
    "\n",
    "df.head()"
   ]
  },
  {
   "cell_type": "markdown",
   "id": "9257f0fc-5f2b-402f-9209-d005d14880be",
   "metadata": {},
   "source": [
    "## Train the model"
   ]
  },
  {
   "cell_type": "code",
   "execution_count": 3,
   "id": "7d39d92f-6fa0-4a2a-8a48-22d214e38efc",
   "metadata": {
    "tags": []
   },
   "outputs": [],
   "source": [
    "clf = pb.models.NegativeBinomialGoalModel(\n",
    "    df[\"goals_home\"], df[\"goals_away\"], df[\"team_home\"], df[\"team_away\"]\n",
    ")\n",
    "clf.fit()"
   ]
  },
  {
   "cell_type": "markdown",
   "id": "63a12589-0066-431f-8444-92e2944b55a4",
   "metadata": {},
   "source": [
    "## The model's parameters"
   ]
  },
  {
   "cell_type": "code",
   "execution_count": 4,
   "id": "1831867d-c26e-4970-9586-a9e23e75cfed",
   "metadata": {
    "tags": []
   },
   "outputs": [
    {
     "data": {
      "text/plain": [
       "Module: Penaltyblog\n",
       "\n",
       "Model: Negative Binomial\n",
       "\n",
       "Number of parameters: 42\n",
       "Log Likelihood: -1058.161\n",
       "AIC: 2200.323\n",
       "\n",
       "Team                 Attack               Defence             \n",
       "------------------------------------------------------------\n",
       "Arsenal              1.132                -0.935              \n",
       "Aston Villa          0.841                -0.618              \n",
       "Bournemouth          0.815                -0.649              \n",
       "Brighton             0.776                -0.836              \n",
       "Burnley              0.869                -0.908              \n",
       "Chelsea              1.346                -0.809              \n",
       "Crystal Palace       0.542                -0.922              \n",
       "Everton              0.899                -0.796              \n",
       "Leicester            1.305                -1.081              \n",
       "Liverpool            1.537                -1.286              \n",
       "Man City             1.721                -1.207              \n",
       "Man United           1.287                -1.213              \n",
       "Newcastle            0.754                -0.765              \n",
       "Norwich              0.392                -0.52               \n",
       "Sheffield United     0.761                -1.163              \n",
       "Southampton          1.05                 -0.719              \n",
       "Tottenham            1.22                 -0.952              \n",
       "Watford              0.708                -0.668              \n",
       "West Ham             1.014                -0.686              \n",
       "Wolves               1.031                -1.125              \n",
       "------------------------------------------------------------\n",
       "Home Advantage: 0.228\n",
       "Dispersion: 169.346"
      ]
     },
     "execution_count": 4,
     "metadata": {},
     "output_type": "execute_result"
    }
   ],
   "source": [
    "clf"
   ]
  },
  {
   "cell_type": "code",
   "execution_count": 5,
   "id": "fc93ec32-d113-4155-a516-abfe58dc8469",
   "metadata": {
    "tags": []
   },
   "outputs": [
    {
     "data": {
      "text/plain": [
       "{'attack_Arsenal': np.float64(1.1318184252081676),\n",
       " 'attack_Aston Villa': np.float64(0.8410063036949371),\n",
       " 'attack_Bournemouth': np.float64(0.8146683441148156),\n",
       " 'attack_Brighton': np.float64(0.7764979411735493),\n",
       " 'attack_Burnley': np.float64(0.8688673699944128),\n",
       " 'attack_Chelsea': np.float64(1.3458143148336632),\n",
       " 'attack_Crystal Palace': np.float64(0.5424131018043771),\n",
       " 'attack_Everton': np.float64(0.8988762107645227),\n",
       " 'attack_Leicester': np.float64(1.3054952339728547),\n",
       " 'attack_Liverpool': np.float64(1.5372109102620741),\n",
       " 'attack_Man City': np.float64(1.7212414135168892),\n",
       " 'attack_Man United': np.float64(1.2866458632709807),\n",
       " 'attack_Newcastle': np.float64(0.7536019331172694),\n",
       " 'attack_Norwich': np.float64(0.3917266275415292),\n",
       " 'attack_Sheffield United': np.float64(0.7614969746976284),\n",
       " 'attack_Southampton': np.float64(1.0497226370648858),\n",
       " 'attack_Tottenham': np.float64(1.2201655557604885),\n",
       " 'attack_Watford': np.float64(0.7077285582936104),\n",
       " 'attack_West Ham': np.float64(1.0139352315932835),\n",
       " 'attack_Wolves': np.float64(1.031067049320062),\n",
       " 'defence_Arsenal': np.float64(-0.9345884934078494),\n",
       " 'defence_Aston Villa': np.float64(-0.617765273844357),\n",
       " 'defence_Bournemouth': np.float64(-0.6494334697777882),\n",
       " 'defence_Brighton': np.float64(-0.8355570494688354),\n",
       " 'defence_Burnley': np.float64(-0.9079517500454989),\n",
       " 'defence_Chelsea': np.float64(-0.808783576668979),\n",
       " 'defence_Crystal Palace': np.float64(-0.9216013109469254),\n",
       " 'defence_Everton': np.float64(-0.7962299637683887),\n",
       " 'defence_Leicester': np.float64(-1.0814302729541432),\n",
       " 'defence_Liverpool': np.float64(-1.2857220836264767),\n",
       " 'defence_Man City': np.float64(-1.2072699089858834),\n",
       " 'defence_Man United': np.float64(-1.2127221097660073),\n",
       " 'defence_Newcastle': np.float64(-0.7652960967925935),\n",
       " 'defence_Norwich': np.float64(-0.5196332971694073),\n",
       " 'defence_Sheffield United': np.float64(-1.1626348508558566),\n",
       " 'defence_Southampton': np.float64(-0.7186375293496271),\n",
       " 'defence_Tottenham': np.float64(-0.9519522095011826),\n",
       " 'defence_Watford': np.float64(-0.6683202768010704),\n",
       " 'defence_West Ham': np.float64(-0.6861901852523249),\n",
       " 'defence_Wolves': np.float64(-1.124515844873471),\n",
       " 'home_advantage': np.float64(0.22801810499398117),\n",
       " 'dispersion': np.float64(169.3456461442496)}"
      ]
     },
     "execution_count": 5,
     "metadata": {},
     "output_type": "execute_result"
    }
   ],
   "source": [
    "clf.get_params()"
   ]
  },
  {
   "cell_type": "markdown",
   "id": "43bb1f12-7010-421b-bf93-bb8e1dba2df6",
   "metadata": {},
   "source": [
    "## Predict Match Outcomes"
   ]
  },
  {
   "cell_type": "code",
   "execution_count": 6,
   "id": "3a047b77-707d-46b6-bcf8-57f3356efee3",
   "metadata": {
    "tags": []
   },
   "outputs": [
    {
     "data": {
      "text/plain": [
       "Module: Penaltyblog\n",
       "\n",
       "Class: FootballProbabilityGrid\n",
       "\n",
       "Home Goal Expectation: [1.89783388]\n",
       "Away Goal Expectation: [0.77518386]\n",
       "\n",
       "Home Win: 0.6381424457118116\n",
       "Draw: 0.21493549027932218\n",
       "Away Win: 0.14688631509986005"
      ]
     },
     "execution_count": 6,
     "metadata": {},
     "output_type": "execute_result"
    }
   ],
   "source": [
    "probs = clf.predict(\"Liverpool\", \"Wolves\")\n",
    "probs"
   ]
  },
  {
   "cell_type": "markdown",
   "id": "2a5274e7-d13e-455b-8e77-a6f51ba6f830",
   "metadata": {},
   "source": [
    "### 1x2 Probabilities"
   ]
  },
  {
   "cell_type": "code",
   "execution_count": 7,
   "id": "cc1d6199-c35e-4ea3-bf82-a89c31a7277d",
   "metadata": {
    "tags": []
   },
   "outputs": [
    {
     "data": {
      "text/plain": [
       "[np.float64(0.6381424457118116),\n",
       " np.float64(0.21493549027932218),\n",
       " np.float64(0.14688631509986005)]"
      ]
     },
     "execution_count": 7,
     "metadata": {},
     "output_type": "execute_result"
    }
   ],
   "source": [
    "probs.home_draw_away"
   ]
  },
  {
   "cell_type": "code",
   "execution_count": 8,
   "id": "eef96983-d83d-4c39-bd49-47cb4a704ab4",
   "metadata": {
    "tags": []
   },
   "outputs": [
    {
     "data": {
      "text/plain": [
       "np.float64(0.6381424457118116)"
      ]
     },
     "execution_count": 8,
     "metadata": {},
     "output_type": "execute_result"
    }
   ],
   "source": [
    "probs.home_win"
   ]
  },
  {
   "cell_type": "code",
   "execution_count": 9,
   "id": "e08561b2-07ed-47b3-89d7-14c0a05cf854",
   "metadata": {
    "tags": []
   },
   "outputs": [
    {
     "data": {
      "text/plain": [
       "np.float64(0.21493549027932218)"
      ]
     },
     "execution_count": 9,
     "metadata": {},
     "output_type": "execute_result"
    }
   ],
   "source": [
    "probs.draw"
   ]
  },
  {
   "cell_type": "code",
   "execution_count": 10,
   "id": "594e21a7-9a75-49a3-b3e8-50fa4bd8ac51",
   "metadata": {
    "tags": []
   },
   "outputs": [
    {
     "data": {
      "text/plain": [
       "np.float64(0.14688631509986005)"
      ]
     },
     "execution_count": 10,
     "metadata": {},
     "output_type": "execute_result"
    }
   ],
   "source": [
    "probs.away_win"
   ]
  },
  {
   "cell_type": "markdown",
   "id": "9996be1b-acf8-4305-9bf0-6e4832505d47",
   "metadata": {},
   "source": [
    "### Probablity of Total Goals >1.5"
   ]
  },
  {
   "cell_type": "code",
   "execution_count": 11,
   "id": "8da5ea91-ff28-4c6d-b6bf-0d5ef417da2b",
   "metadata": {
    "tags": []
   },
   "outputs": [
    {
     "data": {
      "text/plain": [
       "np.float64(0.7449383696657509)"
      ]
     },
     "execution_count": 11,
     "metadata": {},
     "output_type": "execute_result"
    }
   ],
   "source": [
    "probs.total_goals(\"over\", 1.5)"
   ]
  },
  {
   "cell_type": "markdown",
   "id": "5a0876d3-9d69-4b63-ae8a-d2b3b8f40aa6",
   "metadata": {},
   "source": [
    "### Probability of Asian Handicap 1.5"
   ]
  },
  {
   "cell_type": "code",
   "execution_count": 12,
   "id": "280e7570-5010-4b39-8104-71ca27e4005a",
   "metadata": {
    "tags": []
   },
   "outputs": [
    {
     "data": {
      "text/plain": [
       "np.float64(0.384774084343017)"
      ]
     },
     "execution_count": 12,
     "metadata": {},
     "output_type": "execute_result"
    }
   ],
   "source": [
    "probs.asian_handicap(\"home\", 1.5)"
   ]
  },
  {
   "cell_type": "markdown",
   "id": "f1205e38-8afc-45fc-ba5f-59292aad9e21",
   "metadata": {},
   "source": [
    "## Probability of both teams scoring"
   ]
  },
  {
   "cell_type": "code",
   "execution_count": 13,
   "id": "1b63af09-9383-4c5a-ae1c-dadb1a57193a",
   "metadata": {
    "tags": []
   },
   "outputs": [
    {
     "data": {
      "text/plain": [
       "np.float64(0.45696238689736385)"
      ]
     },
     "execution_count": 13,
     "metadata": {},
     "output_type": "execute_result"
    }
   ],
   "source": [
    "probs.both_teams_to_score"
   ]
  }
 ],
 "metadata": {
  "kernelspec": {
   "display_name": "venv",
   "language": "python",
   "name": "python3"
  },
  "language_info": {
   "codemirror_mode": {
    "name": "ipython",
    "version": 3
   },
   "file_extension": ".py",
   "mimetype": "text/x-python",
   "name": "python",
   "nbconvert_exporter": "python",
   "pygments_lexer": "ipython3",
   "version": "3.13.1"
  }
 },
 "nbformat": 4,
 "nbformat_minor": 5
}
