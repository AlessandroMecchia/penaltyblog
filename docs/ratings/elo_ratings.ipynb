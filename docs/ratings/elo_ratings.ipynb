{
 "cells": [
  {
   "attachments": {},
   "cell_type": "markdown",
   "id": "590466c4-32bc-4d3e-89b1-66f15ef61d56",
   "metadata": {},
   "source": [
    "# Elo Ratings\n",
    "\n",
    "Elo Ratings are a widely-used method for evaluating football team performance by assigning dynamic ratings based on match outcomes and the relative strength of opponents. \n",
    "\n",
    "Originally developed for chess, the Elo system updates ratings after each match based on the actual versus expected outcome, making it responsive to recent performance. \n",
    "\n",
    "Elo Ratings effectively quantify team strength, allowing for reliable comparisons between teams, predictions of future match outcomes, and valuable insights for betting strategies."
   ]
  },
  {
   "cell_type": "code",
   "execution_count": 1,
   "id": "a23baca5-1387-4d56-9c8a-59bf2633bd84",
   "metadata": {},
   "outputs": [],
   "source": [
    "import penaltyblog as pb"
   ]
  },
  {
   "attachments": {},
   "cell_type": "markdown",
   "id": "051731c6",
   "metadata": {},
   "source": [
    "## Add New Players"
   ]
  },
  {
   "cell_type": "code",
   "execution_count": 2,
   "id": "bea84cd8-7e75-4863-9ece-349870e19e53",
   "metadata": {},
   "outputs": [],
   "source": [
    "elo = pb.ratings.Elo()\n",
    "\n",
    "elo.add_player(\"Rob\")\n",
    "elo.add_player(\"Clare\")\n",
    "elo.add_player(\"Susan\", 1600)"
   ]
  },
  {
   "attachments": {},
   "cell_type": "markdown",
   "id": "79b48cee",
   "metadata": {},
   "source": [
    "## Update Ratings"
   ]
  },
  {
   "cell_type": "code",
   "execution_count": 3,
   "id": "9fc2e8b0-d55f-45c4-bb23-69cf0fdcf56c",
   "metadata": {},
   "outputs": [],
   "source": [
    "elo.update_ratings(\"Rob\", \"Clare\", 1)\n",
    "elo.update_ratings(\"Susan\", \"Clare\", 1)\n",
    "elo.update_ratings(\"Susan\", \"Rob\", 0)\n",
    "elo.update_ratings(\"Clare\", \"Rob\", 0)"
   ]
  },
  {
   "attachments": {},
   "cell_type": "markdown",
   "id": "3597a9d5",
   "metadata": {},
   "source": [
    "## Get New Ratings"
   ]
  },
  {
   "cell_type": "code",
   "execution_count": 4,
   "id": "1e0c988e-2d52-479f-903e-1cac01731c4f",
   "metadata": {},
   "outputs": [
    {
     "data": {
      "text/plain": [
       "1548.9036925925514"
      ]
     },
     "execution_count": 4,
     "metadata": {},
     "output_type": "execute_result"
    }
   ],
   "source": [
    "elo.get_rating(\"Clare\")"
   ]
  }
 ],
 "metadata": {
  "kernelspec": {
   "display_name": "venv",
   "language": "python",
   "name": "python3"
  },
  "language_info": {
   "codemirror_mode": {
    "name": "ipython",
    "version": 3
   },
   "file_extension": ".py",
   "mimetype": "text/x-python",
   "name": "python",
   "nbconvert_exporter": "python",
   "pygments_lexer": "ipython3",
   "version": "3.13.1"
  }
 },
 "nbformat": 4,
 "nbformat_minor": 5
}
