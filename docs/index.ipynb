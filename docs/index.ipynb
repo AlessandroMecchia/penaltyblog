{
 "cells": [
  {
   "cell_type": "markdown",
   "metadata": {},
   "source": [
    "<div align=\"center\" dir=\"auto\">\n",
    "  <img src=\"https://raw.githubusercontent.com/martineastwood/penaltyblog/refs/heads/master/logo.png\" alt=\"Penalty Blog Logo\" width=\"200\" style=\"max-width: 100%;\">\n",
    "</div>"
   ]
  },
  {
   "cell_type": "markdown",
   "metadata": {},
   "source": [
    "# penaltyblog: Football Data & Modelling Made Easy\n",
    "\n",
    "**penaltyblog** is a production-ready Python package designed for football (soccer) analytics, providing powerful tools from [pena.lt/y/blog](https://pena.lt/y/blog) for data analysis, outcome modelling, and betting insights. Optimized with Cython, **penaltyblog** delivers high-performance modelling to power faster, efficient predictions.\n",
    "\n",
    "## Features\n",
    "- ⚽ **Scrape Data** – Collect match statistics from sources like FBRef, Understat, Club Elo, and Fantasy Premier League.\n",
    "- 📊 **Model Matches Efficiently** – High-performance implementations of Poisson, Bivariate Poisson, Dixon-Coles, and other advanced statistical models, optimized with Cython for rapid analysis.\n",
    "- 💰 **Bet Smarter** – Precisely estimate probabilities for Asian handicaps, over/under totals, match outcomes, and more.\n",
    "- 🏆 **Rank Teams** – Evaluate team strengths with sophisticated methods including Elo, Massey, Colley, and Pi ratings.\n",
    "- 📈 **Decode Bookmaker Odds** – Accurately extract implied probabilities by removing bookmaker margins (overrounds).\n",
    "- 🎯 **Fantasy Football Optimisation** – Mathematically optimize your fantasy football squad to maximize performance.\n",
    "\n",
    "Take your football analytics and betting strategy to the next level with **penaltyblog** 🚀\n",
    "\n",
    "## Installation\n",
    "\n",
    "```bash\n",
    "pip install penaltyblog\n",
    "```\n",
    "\n",
    "## Documentation\n",
    "\n",
    "Learn more about how to utilize `penaltyblog` by exploring the [official documentation](https://penaltyblog.readthedocs.io/en/stable/) and detailed examples:\n",
    "\n",
    "- [Scraping football data](https://penaltyblog.readthedocs.io/en/stable/scrapers/index.html)\n",
    "- [Predicting football matches and betting markets](https://penaltyblog.readthedocs.io/en/stable/models/index.html)\n",
    "- [Estimating implied odds from bookmaker prices](https://penaltyblog.readthedocs.io/en/stable/implied/index.html)\n",
    "- [Calculating Massey, Colley, and Elo ratings](https://penaltyblog.readthedocs.io/en/stable/ratings/index.html)\n",
    "\n",
    "## References\n",
    "\n",
    "- Baio, Gianluca, and Marta A. Blangiardo (2010). *Bayesian Hierarchical Model for the Prediction of Football Results*.\n",
    "- *A bivariate Weibull count model for forecasting association football scores*\n",
    "- Boshnakov, Georgi, Tarak Kharrat, and Ian G. McHale (2017). A bivariate Weibull count model for forecasting association football scores.\n",
    "- Buchdahl, Joseph (2015). *The Wisdom of the Crowd*.\n",
    "- Constantinou, Anthony C., and Norman E. Fenton (2012). *Solving the problem of inadequate scoring rules for assessing probabilistic football forecast models*.\n",
    "- Constantinou, Anthony C., and Norman E. Fenton (2013). *Determining the level of ability of football teams by dynamic ratings based on the relative discrepancies in scores between adversaries*.\n",
    "- Dixon, Mark J., and Stuart G. Coles (1997). *Modelling Association Football Scores and Inefficiencies in the Football Betting Market*.\n",
    "- Karlis, Dimitris, and Ioannis Ntzoufras (2003). *Analysis of Sports Data by Using Bivariate Poisson Models*.\n",
    "- Rue, Håvard, and Øyvind Salvesen (1999). *Prediction and Retrospective Analysis of Soccer Matches in a League*.\n",
    "- Shin, Hyun Song (1992). *Prices of State Contingent Claims with Insider Traders, and the Favourite-Longshot Bias*.\n",
    "- Shin, Hyun Song (1993). *Measuring the Incidence of Insider Trading in a Market for State-Contingent Claims*.\n"
   ]
  },
  {
   "cell_type": "raw",
   "metadata": {
    "editable": true,
    "raw_mimetype": "text/restructuredtext",
    "slideshow": {
     "slide_type": ""
    },
    "tags": [],
    "vscode": {
     "languageId": "raw"
    }
   },
   "source": [
    ".. toctree::\n",
    "   :maxdepth: 1\n",
    "   :caption: Table of Contents\n",
    "\n",
    "   backtest/index\n",
    "   fpl/index\n",
    "   implied/index\n",
    "   install/index\n",
    "   metrics/index      \n",
    "   models/index\n",
    "   ratings/index   \n",
    "   references/index\n",
    "   \n",
    "   changelog/index  \n",
    "\n",
    ".. toctree::\n",
    "   :maxdepth: 1\n",
    "   :caption: Resources & References\n",
    "\n",
    "   release_notes\n",
    "   api_reference"
   ]
  },
  {
   "cell_type": "raw",
   "metadata": {},
   "source": []
  }
 ],
 "metadata": {
  "kernelspec": {
   "display_name": "venv",
   "language": "python",
   "name": "python3"
  },
  "language_info": {
   "codemirror_mode": {
    "name": "ipython",
    "version": 3
   },
   "file_extension": ".py",
   "mimetype": "text/x-python",
   "name": "python",
   "nbconvert_exporter": "python",
   "pygments_lexer": "ipython3",
   "version": "3.13.1"
  }
 },
 "nbformat": 4,
 "nbformat_minor": 4
}
