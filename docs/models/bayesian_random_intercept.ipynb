{
 "cells": [
  {
   "cell_type": "markdown",
   "id": "81215b75-f5f8-4c17-9cd4-08b1b0ed4234",
   "metadata": {},
   "source": [
    "# Bayesian Random Intercept Model"
   ]
  },
  {
   "cell_type": "code",
   "execution_count": 1,
   "id": "1f931497-c1f9-4cb4-969a-058676e42a24",
   "metadata": {
    "tags": []
   },
   "outputs": [],
   "source": [
    "import sys\n",
    "\n",
    "sys.path.append(\"../../\")\n",
    "\n",
    "import penaltyblog as pb"
   ]
  },
  {
   "cell_type": "markdown",
   "id": "4a1b5c76-8f47-4f59-8351-d5add2f69309",
   "metadata": {},
   "source": [
    "## Get data from football-data.co.uk"
   ]
  },
  {
   "cell_type": "code",
   "execution_count": 2,
   "id": "949b129d-e4e5-4975-8318-dd601d918e90",
   "metadata": {
    "tags": []
   },
   "outputs": [
    {
     "data": {
      "text/html": [
       "<div>\n",
       "<style scoped>\n",
       "    .dataframe tbody tr th:only-of-type {\n",
       "        vertical-align: middle;\n",
       "    }\n",
       "\n",
       "    .dataframe tbody tr th {\n",
       "        vertical-align: top;\n",
       "    }\n",
       "\n",
       "    .dataframe thead th {\n",
       "        text-align: right;\n",
       "    }\n",
       "</style>\n",
       "<table border=\"1\" class=\"dataframe\">\n",
       "  <thead>\n",
       "    <tr style=\"text-align: right;\">\n",
       "      <th></th>\n",
       "      <th>date</th>\n",
       "      <th>datetime</th>\n",
       "      <th>season</th>\n",
       "      <th>competition</th>\n",
       "      <th>div</th>\n",
       "      <th>time</th>\n",
       "      <th>team_home</th>\n",
       "      <th>team_away</th>\n",
       "      <th>fthg</th>\n",
       "      <th>ftag</th>\n",
       "      <th>...</th>\n",
       "      <th>b365_cahh</th>\n",
       "      <th>b365_caha</th>\n",
       "      <th>pcahh</th>\n",
       "      <th>pcaha</th>\n",
       "      <th>max_cahh</th>\n",
       "      <th>max_caha</th>\n",
       "      <th>avg_cahh</th>\n",
       "      <th>avg_caha</th>\n",
       "      <th>goals_home</th>\n",
       "      <th>goals_away</th>\n",
       "    </tr>\n",
       "    <tr>\n",
       "      <th>id</th>\n",
       "      <th></th>\n",
       "      <th></th>\n",
       "      <th></th>\n",
       "      <th></th>\n",
       "      <th></th>\n",
       "      <th></th>\n",
       "      <th></th>\n",
       "      <th></th>\n",
       "      <th></th>\n",
       "      <th></th>\n",
       "      <th></th>\n",
       "      <th></th>\n",
       "      <th></th>\n",
       "      <th></th>\n",
       "      <th></th>\n",
       "      <th></th>\n",
       "      <th></th>\n",
       "      <th></th>\n",
       "      <th></th>\n",
       "      <th></th>\n",
       "      <th></th>\n",
       "    </tr>\n",
       "  </thead>\n",
       "  <tbody>\n",
       "    <tr>\n",
       "      <th>1565308800---liverpool---norwich</th>\n",
       "      <td>2019-08-09</td>\n",
       "      <td>2019-08-09 20:00:00</td>\n",
       "      <td>2019-2020</td>\n",
       "      <td>ENG Premier League</td>\n",
       "      <td>E0</td>\n",
       "      <td>20:00</td>\n",
       "      <td>Liverpool</td>\n",
       "      <td>Norwich</td>\n",
       "      <td>4</td>\n",
       "      <td>1</td>\n",
       "      <td>...</td>\n",
       "      <td>1.91</td>\n",
       "      <td>1.99</td>\n",
       "      <td>1.94</td>\n",
       "      <td>1.98</td>\n",
       "      <td>1.99</td>\n",
       "      <td>2.07</td>\n",
       "      <td>1.90</td>\n",
       "      <td>1.99</td>\n",
       "      <td>4</td>\n",
       "      <td>1</td>\n",
       "    </tr>\n",
       "    <tr>\n",
       "      <th>1565395200---bournemouth---sheffield_united</th>\n",
       "      <td>2019-08-10</td>\n",
       "      <td>2019-08-10 15:00:00</td>\n",
       "      <td>2019-2020</td>\n",
       "      <td>ENG Premier League</td>\n",
       "      <td>E0</td>\n",
       "      <td>15:00</td>\n",
       "      <td>Bournemouth</td>\n",
       "      <td>Sheffield United</td>\n",
       "      <td>1</td>\n",
       "      <td>1</td>\n",
       "      <td>...</td>\n",
       "      <td>1.95</td>\n",
       "      <td>1.95</td>\n",
       "      <td>1.98</td>\n",
       "      <td>1.95</td>\n",
       "      <td>2.00</td>\n",
       "      <td>1.96</td>\n",
       "      <td>1.96</td>\n",
       "      <td>1.92</td>\n",
       "      <td>1</td>\n",
       "      <td>1</td>\n",
       "    </tr>\n",
       "    <tr>\n",
       "      <th>1565395200---burnley---southampton</th>\n",
       "      <td>2019-08-10</td>\n",
       "      <td>2019-08-10 15:00:00</td>\n",
       "      <td>2019-2020</td>\n",
       "      <td>ENG Premier League</td>\n",
       "      <td>E0</td>\n",
       "      <td>15:00</td>\n",
       "      <td>Burnley</td>\n",
       "      <td>Southampton</td>\n",
       "      <td>3</td>\n",
       "      <td>0</td>\n",
       "      <td>...</td>\n",
       "      <td>1.87</td>\n",
       "      <td>2.03</td>\n",
       "      <td>1.89</td>\n",
       "      <td>2.03</td>\n",
       "      <td>1.90</td>\n",
       "      <td>2.07</td>\n",
       "      <td>1.86</td>\n",
       "      <td>2.02</td>\n",
       "      <td>3</td>\n",
       "      <td>0</td>\n",
       "    </tr>\n",
       "    <tr>\n",
       "      <th>1565395200---crystal_palace---everton</th>\n",
       "      <td>2019-08-10</td>\n",
       "      <td>2019-08-10 15:00:00</td>\n",
       "      <td>2019-2020</td>\n",
       "      <td>ENG Premier League</td>\n",
       "      <td>E0</td>\n",
       "      <td>15:00</td>\n",
       "      <td>Crystal Palace</td>\n",
       "      <td>Everton</td>\n",
       "      <td>0</td>\n",
       "      <td>0</td>\n",
       "      <td>...</td>\n",
       "      <td>1.82</td>\n",
       "      <td>2.08</td>\n",
       "      <td>1.97</td>\n",
       "      <td>1.96</td>\n",
       "      <td>2.03</td>\n",
       "      <td>2.08</td>\n",
       "      <td>1.96</td>\n",
       "      <td>1.93</td>\n",
       "      <td>0</td>\n",
       "      <td>0</td>\n",
       "    </tr>\n",
       "    <tr>\n",
       "      <th>1565395200---tottenham---aston_villa</th>\n",
       "      <td>2019-08-10</td>\n",
       "      <td>2019-08-10 17:30:00</td>\n",
       "      <td>2019-2020</td>\n",
       "      <td>ENG Premier League</td>\n",
       "      <td>E0</td>\n",
       "      <td>17:30</td>\n",
       "      <td>Tottenham</td>\n",
       "      <td>Aston Villa</td>\n",
       "      <td>3</td>\n",
       "      <td>1</td>\n",
       "      <td>...</td>\n",
       "      <td>2.10</td>\n",
       "      <td>1.70</td>\n",
       "      <td>2.18</td>\n",
       "      <td>1.77</td>\n",
       "      <td>2.21</td>\n",
       "      <td>1.87</td>\n",
       "      <td>2.08</td>\n",
       "      <td>1.80</td>\n",
       "      <td>3</td>\n",
       "      <td>1</td>\n",
       "    </tr>\n",
       "  </tbody>\n",
       "</table>\n",
       "<p>5 rows × 111 columns</p>\n",
       "</div>"
      ],
      "text/plain": [
       "                                                  date            datetime  \\\n",
       "id                                                                           \n",
       "1565308800---liverpool---norwich            2019-08-09 2019-08-09 20:00:00   \n",
       "1565395200---bournemouth---sheffield_united 2019-08-10 2019-08-10 15:00:00   \n",
       "1565395200---burnley---southampton          2019-08-10 2019-08-10 15:00:00   \n",
       "1565395200---crystal_palace---everton       2019-08-10 2019-08-10 15:00:00   \n",
       "1565395200---tottenham---aston_villa        2019-08-10 2019-08-10 17:30:00   \n",
       "\n",
       "                                                season         competition  \\\n",
       "id                                                                           \n",
       "1565308800---liverpool---norwich             2019-2020  ENG Premier League   \n",
       "1565395200---bournemouth---sheffield_united  2019-2020  ENG Premier League   \n",
       "1565395200---burnley---southampton           2019-2020  ENG Premier League   \n",
       "1565395200---crystal_palace---everton        2019-2020  ENG Premier League   \n",
       "1565395200---tottenham---aston_villa         2019-2020  ENG Premier League   \n",
       "\n",
       "                                            div   time       team_home  \\\n",
       "id                                                                       \n",
       "1565308800---liverpool---norwich             E0  20:00       Liverpool   \n",
       "1565395200---bournemouth---sheffield_united  E0  15:00     Bournemouth   \n",
       "1565395200---burnley---southampton           E0  15:00         Burnley   \n",
       "1565395200---crystal_palace---everton        E0  15:00  Crystal Palace   \n",
       "1565395200---tottenham---aston_villa         E0  17:30       Tottenham   \n",
       "\n",
       "                                                    team_away  fthg  ftag  \\\n",
       "id                                                                          \n",
       "1565308800---liverpool---norwich                      Norwich     4     1   \n",
       "1565395200---bournemouth---sheffield_united  Sheffield United     1     1   \n",
       "1565395200---burnley---southampton                Southampton     3     0   \n",
       "1565395200---crystal_palace---everton                 Everton     0     0   \n",
       "1565395200---tottenham---aston_villa              Aston Villa     3     1   \n",
       "\n",
       "                                             ... b365_cahh  b365_caha  pcahh  \\\n",
       "id                                           ...                               \n",
       "1565308800---liverpool---norwich             ...      1.91       1.99   1.94   \n",
       "1565395200---bournemouth---sheffield_united  ...      1.95       1.95   1.98   \n",
       "1565395200---burnley---southampton           ...      1.87       2.03   1.89   \n",
       "1565395200---crystal_palace---everton        ...      1.82       2.08   1.97   \n",
       "1565395200---tottenham---aston_villa         ...      2.10       1.70   2.18   \n",
       "\n",
       "                                            pcaha max_cahh  max_caha  \\\n",
       "id                                                                     \n",
       "1565308800---liverpool---norwich             1.98     1.99      2.07   \n",
       "1565395200---bournemouth---sheffield_united  1.95     2.00      1.96   \n",
       "1565395200---burnley---southampton           2.03     1.90      2.07   \n",
       "1565395200---crystal_palace---everton        1.96     2.03      2.08   \n",
       "1565395200---tottenham---aston_villa         1.77     2.21      1.87   \n",
       "\n",
       "                                             avg_cahh  avg_caha  goals_home  \\\n",
       "id                                                                            \n",
       "1565308800---liverpool---norwich                 1.90      1.99           4   \n",
       "1565395200---bournemouth---sheffield_united      1.96      1.92           1   \n",
       "1565395200---burnley---southampton               1.86      2.02           3   \n",
       "1565395200---crystal_palace---everton            1.96      1.93           0   \n",
       "1565395200---tottenham---aston_villa             2.08      1.80           3   \n",
       "\n",
       "                                             goals_away  \n",
       "id                                                       \n",
       "1565308800---liverpool---norwich                      1  \n",
       "1565395200---bournemouth---sheffield_united           1  \n",
       "1565395200---burnley---southampton                    0  \n",
       "1565395200---crystal_palace---everton                 0  \n",
       "1565395200---tottenham---aston_villa                  1  \n",
       "\n",
       "[5 rows x 111 columns]"
      ]
     },
     "execution_count": 2,
     "metadata": {},
     "output_type": "execute_result"
    }
   ],
   "source": [
    "fb = pb.scrapers.FootballData(\"ENG Premier League\", \"2019-2020\")\n",
    "df = fb.get_fixtures()\n",
    "\n",
    "df.head()"
   ]
  },
  {
   "cell_type": "markdown",
   "id": "9257f0fc-5f2b-402f-9209-d005d14880be",
   "metadata": {},
   "source": [
    "## Train the Model"
   ]
  },
  {
   "cell_type": "code",
   "execution_count": 3,
   "id": "7d39d92f-6fa0-4a2a-8a48-22d214e38efc",
   "metadata": {
    "tags": []
   },
   "outputs": [
    {
     "name": "stderr",
     "output_type": "stream",
     "text": [
      "20:21:36 - cmdstanpy - INFO - compiling stan file /private/var/folders/qg/1pn4sbxj7h91pv3skp6h118c0000gn/T/tmpownlcbuh.stan to exe file /private/var/folders/qg/1pn4sbxj7h91pv3skp6h118c0000gn/T/tmpownlcbuh\n",
      "20:21:42 - cmdstanpy - INFO - compiled model executable: /private/var/folders/qg/1pn4sbxj7h91pv3skp6h118c0000gn/T/tmpownlcbuh\n",
      "20:21:43 - cmdstanpy - INFO - CmdStan start processing\n"
     ]
    },
    {
     "data": {
      "application/vnd.jupyter.widget-view+json": {
       "model_id": "40c133b5d0a841debe82c61c16ba5829",
       "version_major": 2,
       "version_minor": 0
      },
      "text/plain": [
       "chain 1 |          | 00:00 Status"
      ]
     },
     "metadata": {},
     "output_type": "display_data"
    },
    {
     "data": {
      "application/vnd.jupyter.widget-view+json": {
       "model_id": "fe4e505940484e7fae145f0c47f2a5ce",
       "version_major": 2,
       "version_minor": 0
      },
      "text/plain": [
       "chain 2 |          | 00:00 Status"
      ]
     },
     "metadata": {},
     "output_type": "display_data"
    },
    {
     "data": {
      "application/vnd.jupyter.widget-view+json": {
       "model_id": "076032cecd0b475f92cf242d15e97dc1",
       "version_major": 2,
       "version_minor": 0
      },
      "text/plain": [
       "chain 3 |          | 00:00 Status"
      ]
     },
     "metadata": {},
     "output_type": "display_data"
    },
    {
     "data": {
      "application/vnd.jupyter.widget-view+json": {
       "model_id": "7d0bf6d5a8824c7e83982b598cf5a926",
       "version_major": 2,
       "version_minor": 0
      },
      "text/plain": [
       "chain 4 |          | 00:00 Status"
      ]
     },
     "metadata": {},
     "output_type": "display_data"
    },
    {
     "name": "stdout",
     "output_type": "stream",
     "text": [
      "                                                                                                                                                                                                                                                                                                                                "
     ]
    },
    {
     "name": "stderr",
     "output_type": "stream",
     "text": [
      "20:21:56 - cmdstanpy - INFO - CmdStan done processing.\n"
     ]
    },
    {
     "name": "stdout",
     "output_type": "stream",
     "text": [
      "\n"
     ]
    },
    {
     "data": {
      "text/plain": [
       "Module: Penaltyblog\n",
       "\n",
       "Model: Bayesian Hierarchical Random Intercept (Stan)\n",
       "\n",
       "Number of parameters: 42\n",
       "Team                 Attack               Defence              Intercept           \n",
       "--------------------------------------------------------------------------------\n",
       "Arsenal              0.053                -0.039               0.057               \n",
       "Aston Villa          -0.075               0.2                  -0.078              \n",
       "Bournemouth          -0.087               0.175                -0.089              \n",
       "Brighton             -0.102               0.034                -0.102              \n",
       "Burnley              -0.062               -0.02                -0.06               \n",
       "Chelsea              0.153                0.052                0.155               \n",
       "Crystal Palace       -0.197               -0.028               -0.195              \n",
       "Everton              -0.05                0.064                -0.048              \n",
       "Leicester            0.137                -0.139               0.136               \n",
       "Liverpool            0.248                -0.259               0.247               \n",
       "Man City             0.335                -0.215               0.339               \n",
       "Man United           0.128                -0.221               0.128               \n",
       "Newcastle            -0.113               0.086                -0.108              \n",
       "Norwich              -0.257               0.283                -0.256              \n",
       "Sheffield United     -0.107               -0.188               -0.106              \n",
       "Southampton          0.017                0.12                 0.018               \n",
       "Tottenham            0.095                -0.051               0.093               \n",
       "Watford              -0.132               0.162                -0.133              \n",
       "West Ham             -0.001               0.145                -0.001              \n",
       "Wolves               0.014                -0.164               0.008               \n",
       "------------------------------------------------------------\n",
       "Home Advantage: 0.229\n",
       "Intercept: 0.113"
      ]
     },
     "execution_count": 3,
     "metadata": {},
     "output_type": "execute_result"
    }
   ],
   "source": [
    "clf = pb.models.BayesianRandomInterceptGoalModel(\n",
    "    df[\"goals_home\"], df[\"goals_away\"], df[\"team_home\"], df[\"team_away\"]\n",
    ")\n",
    "clf.fit()"
   ]
  },
  {
   "cell_type": "markdown",
   "id": "63a12589-0066-431f-8444-92e2944b55a4",
   "metadata": {},
   "source": [
    "## The model's parameters"
   ]
  },
  {
   "cell_type": "code",
   "execution_count": 5,
   "id": "fc93ec32-d113-4155-a516-abfe58dc8469",
   "metadata": {
    "tags": []
   },
   "outputs": [
    {
     "data": {
      "text/plain": [
       "{'teams': ['Arsenal',\n",
       "  'Aston Villa',\n",
       "  'Bournemouth',\n",
       "  'Brighton',\n",
       "  'Burnley',\n",
       "  'Chelsea',\n",
       "  'Crystal Palace',\n",
       "  'Everton',\n",
       "  'Leicester',\n",
       "  'Liverpool',\n",
       "  'Man City',\n",
       "  'Man United',\n",
       "  'Newcastle',\n",
       "  'Norwich',\n",
       "  'Sheffield United',\n",
       "  'Southampton',\n",
       "  'Tottenham',\n",
       "  'Watford',\n",
       "  'West Ham',\n",
       "  'Wolves'],\n",
       " 'attack': {'Arsenal': np.float64(0.053),\n",
       "  'Aston Villa': np.float64(-0.075),\n",
       "  'Bournemouth': np.float64(-0.087),\n",
       "  'Brighton': np.float64(-0.102),\n",
       "  'Burnley': np.float64(-0.062),\n",
       "  'Chelsea': np.float64(0.153),\n",
       "  'Crystal Palace': np.float64(-0.197),\n",
       "  'Everton': np.float64(-0.05),\n",
       "  'Leicester': np.float64(0.137),\n",
       "  'Liverpool': np.float64(0.248),\n",
       "  'Man City': np.float64(0.335),\n",
       "  'Man United': np.float64(0.128),\n",
       "  'Newcastle': np.float64(-0.113),\n",
       "  'Norwich': np.float64(-0.257),\n",
       "  'Sheffield United': np.float64(-0.107),\n",
       "  'Southampton': np.float64(0.017),\n",
       "  'Tottenham': np.float64(0.095),\n",
       "  'Watford': np.float64(-0.132),\n",
       "  'West Ham': np.float64(-0.001),\n",
       "  'Wolves': np.float64(0.014)},\n",
       " 'defence': {'Arsenal': np.float64(-0.039),\n",
       "  'Aston Villa': np.float64(0.2),\n",
       "  'Bournemouth': np.float64(0.175),\n",
       "  'Brighton': np.float64(0.034),\n",
       "  'Burnley': np.float64(-0.02),\n",
       "  'Chelsea': np.float64(0.052),\n",
       "  'Crystal Palace': np.float64(-0.028),\n",
       "  'Everton': np.float64(0.064),\n",
       "  'Leicester': np.float64(-0.139),\n",
       "  'Liverpool': np.float64(-0.259),\n",
       "  'Man City': np.float64(-0.215),\n",
       "  'Man United': np.float64(-0.221),\n",
       "  'Newcastle': np.float64(0.086),\n",
       "  'Norwich': np.float64(0.283),\n",
       "  'Sheffield United': np.float64(-0.188),\n",
       "  'Southampton': np.float64(0.12),\n",
       "  'Tottenham': np.float64(-0.051),\n",
       "  'Watford': np.float64(0.162),\n",
       "  'West Ham': np.float64(0.145),\n",
       "  'Wolves': np.float64(-0.164)},\n",
       " 'home_advantage': np.float64(0.229),\n",
       " 'random_intercept': {'Arsenal': np.float64(0.057),\n",
       "  'Aston Villa': np.float64(-0.078),\n",
       "  'Bournemouth': np.float64(-0.089),\n",
       "  'Brighton': np.float64(-0.102),\n",
       "  'Burnley': np.float64(-0.06),\n",
       "  'Chelsea': np.float64(0.155),\n",
       "  'Crystal Palace': np.float64(-0.195),\n",
       "  'Everton': np.float64(-0.048),\n",
       "  'Leicester': np.float64(0.136),\n",
       "  'Liverpool': np.float64(0.247),\n",
       "  'Man City': np.float64(0.339),\n",
       "  'Man United': np.float64(0.128),\n",
       "  'Newcastle': np.float64(-0.108),\n",
       "  'Norwich': np.float64(-0.256),\n",
       "  'Sheffield United': np.float64(-0.106),\n",
       "  'Southampton': np.float64(0.018),\n",
       "  'Tottenham': np.float64(0.093),\n",
       "  'Watford': np.float64(-0.133),\n",
       "  'West Ham': np.float64(-0.001),\n",
       "  'Wolves': np.float64(0.008)}}"
      ]
     },
     "execution_count": 5,
     "metadata": {},
     "output_type": "execute_result"
    }
   ],
   "source": [
    "clf.get_params()"
   ]
  },
  {
   "cell_type": "markdown",
   "id": "43bb1f12-7010-421b-bf93-bb8e1dba2df6",
   "metadata": {},
   "source": [
    "## Predict Match Outcomes"
   ]
  },
  {
   "cell_type": "code",
   "execution_count": 6,
   "id": "c0721687-1db1-4b6e-8e81-78ff13e3280e",
   "metadata": {
    "tags": []
   },
   "outputs": [
    {
     "data": {
      "text/plain": [
       "Module: Penaltyblog\n",
       "\n",
       "Class: FootballProbabilityGrid\n",
       "\n",
       "Home Goal Expectation: 2.1864874206370515\n",
       "Away Goal Expectation: 0.9940010596762124\n",
       "\n",
       "Home Win: 0.6396642871036486\n",
       "Draw: 0.1947615828647382\n",
       "Away Win: 0.1655741163506108"
      ]
     },
     "execution_count": 6,
     "metadata": {},
     "output_type": "execute_result"
    }
   ],
   "source": [
    "probs = clf.predict(\"Liverpool\", \"Wolves\")\n",
    "probs"
   ]
  },
  {
   "cell_type": "markdown",
   "id": "2a5274e7-d13e-455b-8e77-a6f51ba6f830",
   "metadata": {},
   "source": [
    "### 1x2 Probabilities"
   ]
  },
  {
   "cell_type": "code",
   "execution_count": 7,
   "id": "cc1d6199-c35e-4ea3-bf82-a89c31a7277d",
   "metadata": {
    "tags": []
   },
   "outputs": [
    {
     "data": {
      "text/plain": [
       "[np.float64(0.6396642871036486),\n",
       " np.float64(0.1947615828647382),\n",
       " np.float64(0.1655741163506108)]"
      ]
     },
     "execution_count": 7,
     "metadata": {},
     "output_type": "execute_result"
    }
   ],
   "source": [
    "probs.home_draw_away"
   ]
  },
  {
   "cell_type": "code",
   "execution_count": 8,
   "id": "eef96983-d83d-4c39-bd49-47cb4a704ab4",
   "metadata": {
    "tags": []
   },
   "outputs": [
    {
     "data": {
      "text/plain": [
       "np.float64(0.6396642871036486)"
      ]
     },
     "execution_count": 8,
     "metadata": {},
     "output_type": "execute_result"
    }
   ],
   "source": [
    "probs.home_win"
   ]
  },
  {
   "cell_type": "code",
   "execution_count": 9,
   "id": "e08561b2-07ed-47b3-89d7-14c0a05cf854",
   "metadata": {
    "tags": []
   },
   "outputs": [
    {
     "data": {
      "text/plain": [
       "np.float64(0.1947615828647382)"
      ]
     },
     "execution_count": 9,
     "metadata": {},
     "output_type": "execute_result"
    }
   ],
   "source": [
    "probs.draw"
   ]
  },
  {
   "cell_type": "code",
   "execution_count": 10,
   "id": "594e21a7-9a75-49a3-b3e8-50fa4bd8ac51",
   "metadata": {
    "tags": []
   },
   "outputs": [
    {
     "data": {
      "text/plain": [
       "np.float64(0.1655741163506108)"
      ]
     },
     "execution_count": 10,
     "metadata": {},
     "output_type": "execute_result"
    }
   ],
   "source": [
    "probs.away_win"
   ]
  },
  {
   "cell_type": "markdown",
   "id": "9996be1b-acf8-4305-9bf0-6e4832505d47",
   "metadata": {},
   "source": [
    "### Probablity of Total Goals >1.5"
   ]
  },
  {
   "cell_type": "code",
   "execution_count": 11,
   "id": "8da5ea91-ff28-4c6d-b6bf-0d5ef417da2b",
   "metadata": {
    "tags": []
   },
   "outputs": [
    {
     "data": {
      "text/plain": [
       "np.float64(0.8189676669374846)"
      ]
     },
     "execution_count": 11,
     "metadata": {},
     "output_type": "execute_result"
    }
   ],
   "source": [
    "probs.total_goals(\"over\", 1.5)"
   ]
  },
  {
   "cell_type": "markdown",
   "id": "5a0876d3-9d69-4b63-ae8a-d2b3b8f40aa6",
   "metadata": {},
   "source": [
    "### Probability of Asian Handicap 1.5"
   ]
  },
  {
   "cell_type": "code",
   "execution_count": 12,
   "id": "280e7570-5010-4b39-8104-71ca27e4005a",
   "metadata": {
    "tags": []
   },
   "outputs": [
    {
     "data": {
      "text/plain": [
       "np.float64(0.41106450503541314)"
      ]
     },
     "execution_count": 12,
     "metadata": {},
     "output_type": "execute_result"
    }
   ],
   "source": [
    "probs.asian_handicap(\"home\", 1.5)"
   ]
  },
  {
   "cell_type": "markdown",
   "id": "f1205e38-8afc-45fc-ba5f-59292aad9e21",
   "metadata": {},
   "source": [
    "## Probability of both teams scoring"
   ]
  },
  {
   "cell_type": "code",
   "execution_count": 13,
   "id": "1b63af09-9383-4c5a-ae1c-dadb1a57193a",
   "metadata": {
    "tags": []
   },
   "outputs": [
    {
     "data": {
      "text/plain": [
       "np.float64(0.5489221455689794)"
      ]
     },
     "execution_count": 13,
     "metadata": {},
     "output_type": "execute_result"
    }
   ],
   "source": [
    "probs.both_teams_to_score"
   ]
  },
  {
   "cell_type": "markdown",
   "id": "99bdda51-5841-4f51-9c7d-747c4580a844",
   "metadata": {},
   "source": [
    "## Train the model with more recent data weighted to be more important"
   ]
  },
  {
   "cell_type": "code",
   "execution_count": 14,
   "id": "6deb89ec-8bdc-4339-b3c8-9030f5c5690a",
   "metadata": {},
   "outputs": [
    {
     "name": "stderr",
     "output_type": "stream",
     "text": [
      "20:23:38 - cmdstanpy - INFO - compiling stan file /private/var/folders/qg/1pn4sbxj7h91pv3skp6h118c0000gn/T/tmpd3eh9t2b.stan to exe file /private/var/folders/qg/1pn4sbxj7h91pv3skp6h118c0000gn/T/tmpd3eh9t2b\n",
      "20:23:44 - cmdstanpy - INFO - compiled model executable: /private/var/folders/qg/1pn4sbxj7h91pv3skp6h118c0000gn/T/tmpd3eh9t2b\n",
      "20:23:44 - cmdstanpy - INFO - CmdStan start processing\n"
     ]
    },
    {
     "data": {
      "application/vnd.jupyter.widget-view+json": {
       "model_id": "7964dedd997d4bf5ab66d79f6322413a",
       "version_major": 2,
       "version_minor": 0
      },
      "text/plain": [
       "chain 1 |          | 00:00 Status"
      ]
     },
     "metadata": {},
     "output_type": "display_data"
    },
    {
     "data": {
      "application/vnd.jupyter.widget-view+json": {
       "model_id": "c5324ff149ef457eb89e5ab223265b16",
       "version_major": 2,
       "version_minor": 0
      },
      "text/plain": [
       "chain 2 |          | 00:00 Status"
      ]
     },
     "metadata": {},
     "output_type": "display_data"
    },
    {
     "data": {
      "application/vnd.jupyter.widget-view+json": {
       "model_id": "77062f58580f4acab2858b164c909f1e",
       "version_major": 2,
       "version_minor": 0
      },
      "text/plain": [
       "chain 3 |          | 00:00 Status"
      ]
     },
     "metadata": {},
     "output_type": "display_data"
    },
    {
     "data": {
      "application/vnd.jupyter.widget-view+json": {
       "model_id": "9d6a3b122e1c42af9826cae21c49d8ee",
       "version_major": 2,
       "version_minor": 0
      },
      "text/plain": [
       "chain 4 |          | 00:00 Status"
      ]
     },
     "metadata": {},
     "output_type": "display_data"
    },
    {
     "name": "stdout",
     "output_type": "stream",
     "text": [
      "                                                                                                                                                                                                                                                                                                                                "
     ]
    },
    {
     "name": "stderr",
     "output_type": "stream",
     "text": [
      "20:23:56 - cmdstanpy - INFO - CmdStan done processing.\n"
     ]
    },
    {
     "name": "stdout",
     "output_type": "stream",
     "text": [
      "\n"
     ]
    },
    {
     "data": {
      "text/plain": [
       "Module: Penaltyblog\n",
       "\n",
       "Model: Bayesian Hierarchical Random Intercept (Stan)\n",
       "\n",
       "Number of parameters: 42\n",
       "Team                 Attack               Defence              Intercept           \n",
       "--------------------------------------------------------------------------------\n",
       "Arsenal              0.062                -0.047               0.057               \n",
       "Aston Villa          -0.086               0.178                -0.083              \n",
       "Bournemouth          -0.08                0.175                -0.083              \n",
       "Brighton             -0.106               0.033                -0.102              \n",
       "Burnley              -0.063               -0.03                -0.061              \n",
       "Chelsea              0.154                0.054                0.156               \n",
       "Crystal Palace       -0.195               -0.01                -0.195              \n",
       "Everton              -0.049               0.054                -0.055              \n",
       "Leicester            0.124                -0.112               0.123               \n",
       "Liverpool            0.246                -0.224               0.24                \n",
       "Man City             0.341                -0.219               0.334               \n",
       "Man United           0.14                 -0.216               0.135               \n",
       "Newcastle            -0.098               0.088                -0.1                \n",
       "Norwich              -0.273               0.274                -0.27               \n",
       "Sheffield United     -0.102               -0.164               -0.107              \n",
       "Southampton          0.025                0.094                0.027               \n",
       "Tottenham            0.094                -0.057               0.093               \n",
       "Watford              -0.12                0.156                -0.122              \n",
       "West Ham             0.007                0.13                 0.006               \n",
       "Wolves               0.007                -0.165               0.007               \n",
       "------------------------------------------------------------\n",
       "Home Advantage: 0.237\n",
       "Intercept: 0.105"
      ]
     },
     "execution_count": 14,
     "metadata": {},
     "output_type": "execute_result"
    }
   ],
   "source": [
    "weights = pb.models.dixon_coles_weights(df[\"date\"], 0.001)\n",
    "\n",
    "clf = pb.models.BayesianRandomInterceptGoalModel(\n",
    "    df[\"goals_home\"], df[\"goals_away\"], df[\"team_home\"], df[\"team_away\"], weights\n",
    ")\n",
    "clf.fit()"
   ]
  },
  {
   "cell_type": "code",
   "execution_count": null,
   "id": "0fe3164c-120a-4923-8ed4-2c933325c7eb",
   "metadata": {},
   "outputs": [],
   "source": []
  }
 ],
 "metadata": {
  "kernelspec": {
   "display_name": "Python 3 (ipykernel)",
   "language": "python",
   "name": "python3"
  },
  "language_info": {
   "codemirror_mode": {
    "name": "ipython",
    "version": 3
   },
   "file_extension": ".py",
   "mimetype": "text/x-python",
   "name": "python",
   "nbconvert_exporter": "python",
   "pygments_lexer": "ipython3",
   "version": "3.13.0"
  }
 },
 "nbformat": 4,
 "nbformat_minor": 5
}
