{
 "cells": [
  {
   "cell_type": "markdown",
   "id": "33d0cf22-2a6f-4096-b841-d8220b67d475",
   "metadata": {},
   "source": [
    "# Ranked Probability Scores"
   ]
  },
  {
   "cell_type": "code",
   "execution_count": 1,
   "id": "3991248e-7798-45cc-9466-3d255fbd1fb8",
   "metadata": {},
   "outputs": [],
   "source": [
    "import sys\n",
    "\n",
    "sys.path.append(\"../../\")\n",
    "\n",
    "import penaltyblog as pb"
   ]
  },
  {
   "cell_type": "markdown",
   "id": "11af8fe3-f7b4-461e-b07f-55bd3e1cd02e",
   "metadata": {},
   "source": [
    "## Examples"
   ]
  },
  {
   "cell_type": "markdown",
   "id": "a3268713-a054-4b3b-b8ef-9e13706662c3",
   "metadata": {},
   "source": [
    "Examples below taken from [Solving the problem of inadequate scoring rules for assessing probabilistic football forecast models](http://constantinou.info/downloads/papers/solvingtheproblem.pdf)"
   ]
  },
  {
   "cell_type": "code",
   "execution_count": 2,
   "id": "f48692c9-67bc-42f6-8096-2e7f677ba4bd",
   "metadata": {},
   "outputs": [],
   "source": [
    "predictions = [\n",
    "    [1, 0, 0],\n",
    "    [0.9, 0.1, 0],\n",
    "    [0.8, 0.1, 0.1],\n",
    "    [0.5, 0.25, 0.25],\n",
    "    [0.35, 0.3, 0.35],\n",
    "    [0.6, 0.3, 0.1],\n",
    "    [0.6, 0.25, 0.15],\n",
    "    [0.6, 0.15, 0.25],\n",
    "    [0.57, 0.33, 0.1],\n",
    "    [0.6, 0.2, 0.2],\n",
    "]\n",
    "\n",
    "observed = [0, 0, 0, 0, 1, 1, 0, 0, 0, 0, 0]"
   ]
  },
  {
   "cell_type": "code",
   "execution_count": 3,
   "id": "f5b670bf-023f-44c7-b80f-aa539167cba5",
   "metadata": {},
   "outputs": [
    {
     "name": "stdout",
     "output_type": "stream",
     "text": [
      "0.0\n",
      "0.005\n",
      "0.025\n",
      "0.1562\n",
      "0.1225\n",
      "0.185\n",
      "0.0913\n",
      "0.1113\n",
      "0.0975\n",
      "0.1\n"
     ]
    }
   ],
   "source": [
    "for p, o in zip(predictions, observed):\n",
    "    rps = pb.metrics.rps(p, o)\n",
    "    print(round(rps, 4))"
   ]
  }
 ],
 "metadata": {
  "kernelspec": {
   "display_name": "Python 3 (ipykernel)",
   "language": "python",
   "name": "python3"
  },
  "language_info": {
   "codemirror_mode": {
    "name": "ipython",
    "version": 3
   },
   "file_extension": ".py",
   "mimetype": "text/x-python",
   "name": "python",
   "nbconvert_exporter": "python",
   "pygments_lexer": "ipython3",
   "version": "3.13.0"
  }
 },
 "nbformat": 4,
 "nbformat_minor": 5
}
