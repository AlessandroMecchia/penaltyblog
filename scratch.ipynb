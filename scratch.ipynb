{
 "cells": [
  {
   "cell_type": "code",
   "execution_count": null,
   "metadata": {},
   "outputs": [],
   "source": [
    "!pip install cython"
   ]
  },
  {
   "cell_type": "code",
   "execution_count": 1,
   "metadata": {},
   "outputs": [],
   "source": [
    "import penaltyblog as pb\n",
    "import pandas as pd"
   ]
  },
  {
   "cell_type": "code",
   "execution_count": 16,
   "metadata": {},
   "outputs": [
    {
     "name": "stderr",
     "output_type": "stream",
     "text": [
      "/Users/martin/repos/penaltyblog/penaltyblog/scrapers/footballdata.py:68: UserWarning: Could not infer format, so each element will be parsed individually, falling back to `dateutil`. To ensure parsing is consistent and as-expected, please specify a format.\n",
      "  df[\"Date\"] = pd.to_datetime(df[\"Date\"], dayfirst=True)\n"
     ]
    },
    {
     "data": {
      "text/plain": [
       "(2276, 159)"
      ]
     },
     "execution_count": 16,
     "metadata": {},
     "output_type": "execute_result"
    }
   ],
   "source": [
    "df = pd.concat([\n",
    "    pb.scrapers.FootballData(\"NLD Eredivisie\", \"2017-2018\").get_fixtures(),\n",
    "    pb.scrapers.FootballData(\"NLD Eredivisie\", \"2018-2019\").get_fixtures(),\n",
    "    pb.scrapers.FootballData(\"NLD Eredivisie\", \"2019-2020\").get_fixtures(),\n",
    "    pb.scrapers.FootballData(\"NLD Eredivisie\", \"2020-2021\").get_fixtures(),\n",
    "    pb.scrapers.FootballData(\"NLD Eredivisie\", \"2021-2022\").get_fixtures(),\n",
    "    pb.scrapers.FootballData(\"NLD Eredivisie\", \"2022-2023\").get_fixtures(),\n",
    "    pb.scrapers.FootballData(\"NLD Eredivisie\", \"2023-2024\").get_fixtures(),\n",
    "    pb.scrapers.FootballData(\"NLD Eredivisie\", \"2024-2025\").get_fixtures(),\n",
    "])\n",
    "\n",
    "df = df[df[\"date\"] < \"2025-03-01\"]\n",
    "df.shape\n",
    "\n",
    "df = df.sort_values('date').set_index('date', drop=False)\n",
    "ftr_map = {\"H\": 0, \"D\": 1, \"A\": 2}\n",
    "df['ftr_numeric'] = df['ftr'].map(ftr_map)\n",
    "\n",
    "train = df[df[\"date\"] > \"2010-01-01\"]\n",
    "train = train.reset_index(drop=True)\n",
    "train.shape\n"
   ]
  },
  {
   "cell_type": "code",
   "execution_count": 17,
   "metadata": {},
   "outputs": [],
   "source": [
    "import cython"
   ]
  },
  {
   "cell_type": "code",
   "execution_count": 18,
   "metadata": {},
   "outputs": [
    {
     "name": "stdout",
     "output_type": "stream",
     "text": [
      "The Cython extension is already loaded. To reload it, use:\n",
      "  %reload_ext Cython\n"
     ]
    }
   ],
   "source": [
    "%load_ext Cython"
   ]
  },
  {
   "cell_type": "code",
   "execution_count": 52,
   "metadata": {},
   "outputs": [],
   "source": [
    "%%cython\n",
    "# cython: boundscheck=False, wraparound=False, cdivision=True, nonecheck=False, initializedcheck=False, language_level=3\n",
    "# Adding optimization flags (if supported by your compiler) can be done in setup.py (see below)\n",
    "\n",
    "import numpy as np\n",
    "cimport numpy as np\n",
    "from libc.math cimport exp, log, lgamma\n",
    "from cython.parallel import prange\n",
    "\n",
    "\n",
    "def compute_llk_cython(np.int64_t[:] goals_home,\n",
    "                       np.int64_t[:] goals_away,\n",
    "                       np.float64_t[:] weights,\n",
    "                       np.int64_t[:] home_indices,\n",
    "                       np.int64_t[:] away_indices,\n",
    "                       np.float64_t[:] attack,\n",
    "                       np.float64_t[:] defence,\n",
    "                       double hfa) -> double:\n",
    "    cdef Py_ssize_t i, n = goals_home.shape[0]\n",
    "    cdef double total_llk = 0.0\n",
    "    cdef double lambda_home, lambda_away, llk_home, llk_away\n",
    "    cdef int home_idx, away_idx, k_home, k_away\n",
    "\n",
    "    # Main loop: optimized for performance\n",
    "    with nogil:\n",
    "        for i in prange(n):\n",
    "            home_idx = home_indices[i]\n",
    "            away_idx = away_indices[i]\n",
    "            \n",
    "            # Compute expected goals\n",
    "            lambda_home = exp(hfa + attack[home_idx] + defence[away_idx])\n",
    "            lambda_away = exp(attack[away_idx] + defence[home_idx])\n",
    "            \n",
    "            # Retrieve observed goals\n",
    "            k_home = goals_home[i]\n",
    "            k_away = goals_away[i]\n",
    "            \n",
    "            # Compute Poisson log-likelihood contributions\n",
    "            llk_home = -lambda_home + k_home * log(lambda_home) - lgamma(k_home + 1)\n",
    "            llk_away = -lambda_away + k_away * log(lambda_away) - lgamma(k_away + 1)\n",
    "            \n",
    "            total_llk += (llk_home + llk_away) * weights[i]\n",
    "        \n",
    "    return total_llk\n"
   ]
  },
  {
   "cell_type": "code",
   "execution_count": 20,
   "metadata": {},
   "outputs": [],
   "source": [
    "import numpy as np\n",
    "from scipy.optimize import minimize\n",
    "from scipy.stats import poisson\n",
    "import pandas as pd\n",
    "import warnings\n",
    "\n",
    "# Assume compute_llk_cython is compiled and available from the Cython cell above\n",
    "\n",
    "class PoissonGoalsModel:\n",
    "    def __init__(self, goals_home, goals_away, teams_home, teams_away, weights=1):\n",
    "        self.fixtures = pd.DataFrame([goals_home, goals_away, teams_home, teams_away]).T\n",
    "        self.fixtures.columns = [\"goals_home\", \"goals_away\", \"team_home\", \"team_away\"]\n",
    "        self.fixtures[\"goals_home\"] = self.fixtures[\"goals_home\"].astype(int)\n",
    "        self.fixtures[\"goals_away\"] = self.fixtures[\"goals_away\"].astype(int)\n",
    "        self.fixtures[\"weights\"] = weights\n",
    "\n",
    "        self.teams = np.sort(np.unique(np.concatenate([teams_home, teams_away])))\n",
    "        self.n_teams = len(self.teams)\n",
    "\n",
    "        self._params = np.concatenate(\n",
    "            (\n",
    "                [1] * self.n_teams,\n",
    "                [-1] * self.n_teams,\n",
    "                [0.5],  # home advantage\n",
    "            )\n",
    "        )\n",
    "\n",
    "        self._res = None\n",
    "        self.loglikelihood = None\n",
    "        self.aic = None\n",
    "        self.n_params = None\n",
    "        self.fitted = False\n",
    "\n",
    "    @staticmethod\n",
    "    def _fit(params, fixtures, teams):\n",
    "        \"\"\"\n",
    "        Internal method using Cython for speed.\n",
    "        \"\"\"\n",
    "        n_teams = len(teams)\n",
    "        attack = params[:n_teams]\n",
    "        defence = params[n_teams:2*n_teams]\n",
    "        hfa = params[-1]\n",
    "\n",
    "        # Create mapping from team names to indices\n",
    "        team_to_idx = {team: i for i, team in enumerate(teams)}\n",
    "\n",
    "        # Convert DataFrame columns to numpy arrays\n",
    "        goals_home = fixtures[\"goals_home\"].to_numpy().astype(np.int64)\n",
    "        goals_away = fixtures[\"goals_away\"].to_numpy().astype(np.int64)\n",
    "        weights = fixtures[\"weights\"].to_numpy().astype(np.double)\n",
    "        team_home = fixtures[\"team_home\"].to_numpy()\n",
    "        team_away = fixtures[\"team_away\"].to_numpy()\n",
    "\n",
    "        # Map team names to indices for home and away teams\n",
    "        home_indices = np.array([team_to_idx[team] for team in team_home], dtype=np.int64)\n",
    "        away_indices = np.array([team_to_idx[team] for team in team_away], dtype=np.int64)\n",
    "\n",
    "        # Convert attack and defence parameters to numpy arrays of type double\n",
    "        attack = np.asarray(attack, dtype=np.double)\n",
    "        defence = np.asarray(defence, dtype=np.double)\n",
    "\n",
    "        # Call the Cython function for likelihood computation\n",
    "        total_llk = compute_llk_cython(goals_home, goals_away, weights, home_indices, away_indices, attack, defence, hfa)\n",
    "        return -total_llk\n",
    "\n",
    "    def fit(self):\n",
    "        options = {\"maxiter\": 100, \"disp\": False}\n",
    "        constraints = [{\"type\": \"eq\", \"fun\": lambda x: sum(x[: self.n_teams]) - self.n_teams}]\n",
    "        bounds = [(-3, 3)] * self.n_teams + [(-3, 3)] * self.n_teams + [(0, 3)]\n",
    "\n",
    "        with warnings.catch_warnings():\n",
    "            warnings.filterwarnings(\"ignore\")\n",
    "            self._res = minimize(\n",
    "                self._fit,\n",
    "                self._params,\n",
    "                args=(self.fixtures, self.teams),\n",
    "                constraints=constraints,\n",
    "                bounds=bounds,\n",
    "                options=options,\n",
    "            )\n",
    "\n",
    "        self._params = self._res[\"x\"]\n",
    "        self.n_params = len(self._params)\n",
    "        self.loglikelihood = self._res[\"fun\"] * -1\n",
    "        self.aic = -2 * (self.loglikelihood) + 2 * self.n_params\n",
    "        self.fitted = True\n",
    "\n",
    "    # ... (other methods remain unchanged)\n"
   ]
  },
  {
   "cell_type": "code",
   "execution_count": 21,
   "metadata": {},
   "outputs": [
    {
     "name": "stdout",
     "output_type": "stream",
     "text": [
      "675 ms ± 39.4 ms per loop (mean ± std. dev. of 7 runs, 1 loop each)\n"
     ]
    }
   ],
   "source": [
    "%%timeit\n",
    "# Go version\n",
    "clf = pb.models.PoissonGoalsModel(\n",
    "    train[\"goals_home\"],\n",
    "    train[\"goals_away\"],\n",
    "    train[\"team_home\"],\n",
    "    train[\"team_away\"],\n",
    ")\n",
    "clf.fit()"
   ]
  },
  {
   "cell_type": "code",
   "execution_count": 22,
   "metadata": {},
   "outputs": [
    {
     "data": {
      "text/plain": [
       "-6894.355718264861"
      ]
     },
     "execution_count": 22,
     "metadata": {},
     "output_type": "execute_result"
    }
   ],
   "source": [
    "clf = pb.models.PoissonGoalsModel(\n",
    "    train[\"goals_home\"],\n",
    "    train[\"goals_away\"],\n",
    "    train[\"team_home\"],\n",
    "    train[\"team_away\"],\n",
    ")\n",
    "clf.fit()\n",
    "clf.loglikelihood"
   ]
  },
  {
   "cell_type": "code",
   "execution_count": null,
   "metadata": {},
   "outputs": [
    {
     "name": "stdout",
     "output_type": "stream",
     "text": [
      "1.49 s ± 32 ms per loop (mean ± std. dev. of 7 runs, 1 loop each)\n"
     ]
    }
   ],
   "source": [
    "%%timeit\n",
    "# Cython version\n",
    "clf = PoissonGoalsModel(\n",
    "    train[\"goals_home\"],\n",
    "    train[\"goals_away\"],\n",
    "    train[\"team_home\"],\n",
    "    train[\"team_away\"],\n",
    ")\n",
    "clf.fit()"
   ]
  },
  {
   "cell_type": "code",
   "execution_count": 24,
   "metadata": {},
   "outputs": [
    {
     "data": {
      "text/plain": [
       "-6894.3557251866605"
      ]
     },
     "execution_count": 24,
     "metadata": {},
     "output_type": "execute_result"
    }
   ],
   "source": [
    "clf = PoissonGoalsModel(\n",
    "    train[\"goals_home\"],\n",
    "    train[\"goals_away\"],\n",
    "    train[\"team_home\"],\n",
    "    train[\"team_away\"],\n",
    ")\n",
    "clf.fit()\n",
    "clf.loglikelihood"
   ]
  },
  {
   "cell_type": "code",
   "execution_count": 46,
   "metadata": {},
   "outputs": [
    {
     "name": "stdout",
     "output_type": "stream",
     "text": [
      "Content of stderr:\n",
      "In file included from /Users/martin/.cache/ipython/cython/_cython_magic_fd007d85e40caf83f4ce850c92379f7373893c60.c:1254:\n",
      "In file included from /Users/martin/repos/penaltyblog/venv/lib/python3.13/site-packages/numpy/_core/include/numpy/arrayobject.h:5:\n",
      "In file included from /Users/martin/repos/penaltyblog/venv/lib/python3.13/site-packages/numpy/_core/include/numpy/ndarrayobject.h:12:\n",
      "In file included from /Users/martin/repos/penaltyblog/venv/lib/python3.13/site-packages/numpy/_core/include/numpy/ndarraytypes.h:1909:\n",
      "/Users/martin/repos/penaltyblog/venv/lib/python3.13/site-packages/numpy/_core/include/numpy/npy_1_7_deprecated_api.h:17:2: warning: \"Using deprecated NumPy API, disable it with \"          \"#define NPY_NO_DEPRECATED_API NPY_1_7_API_VERSION\" [-W#warnings]\n",
      "   17 | #warning \"Using deprecated NumPy API, disable it with \" \\\n",
      "      |  ^\n",
      "/Users/martin/.cache/ipython/cython/_cython_magic_fd007d85e40caf83f4ce850c92379f7373893c60.c:24220:13: warning: code will never be executed [-Wunreachable-code]\n",
      " 24220 |             goto bad;\n",
      "       |             ^~~~~~~~\n",
      "/Users/martin/.cache/ipython/cython/_cython_magic_fd007d85e40caf83f4ce850c92379f7373893c60.c:24899:26: warning: code will never be executed [-Wunreachable-code]\n",
      " 24899 |                 module = PyImport_ImportModuleLevelObject(\n",
      "       |                          ^~~~~~~~~~~~~~~~~~~~~~~~~~~~~~~~\n",
      "3 warnings generated."
     ]
    }
   ],
   "source": [
    "%%cython\n",
    "# cython: boundscheck=False, wraparound=False, cdivision=True, language_level=3\n",
    "import numpy as np\n",
    "cimport numpy as np\n",
    "from libc.math cimport exp, log, lgamma, isnan, isinf\n",
    "from cython.parallel import prange\n",
    "\n",
    "# Helper function for the Negative Binomial log-PMF:\n",
    "cdef double negBinomLogPMF(int k, double dispersion, double p) nogil:\n",
    "    \"\"\"\n",
    "    Computes the Negative Binomial log-PMF using the formula:\n",
    "      logPMF = lgamma(k + dispersion) - lgamma(k + 1) - lgamma(dispersion)\n",
    "               + dispersion * log(p) + k * log(1 - p)\n",
    "    \"\"\"\n",
    "    return lgamma(k + dispersion) - lgamma(k + 1) - lgamma(dispersion) + dispersion * log(p) + k * log(1 - p)\n",
    "\n",
    "cpdef double compute_negative_binomial_loss(np.float64_t[:] params,\n",
    "                                   int nTeams,\n",
    "                                   np.int32_t[:] homeIdx,\n",
    "                                   np.int32_t[:] awayIdx,\n",
    "                                   np.int32_t[:] goalsHome,\n",
    "                                   np.int32_t[:] goalsAway,\n",
    "                                   np.float64_t[:] weights,\n",
    "                                   int nMatches):\n",
    "    \"\"\"\n",
    "    Compute the negative log-likelihood for the Negative Binomial model.\n",
    "    \n",
    "    Parameters:\n",
    "      params: Array of parameters of length (2*nTeams + 2), where the first nTeams\n",
    "              elements are attack parameters, the next nTeams are defence parameters,\n",
    "              followed by home advantage and dispersion.\n",
    "      nTeams: Number of teams.\n",
    "      homeIdx, awayIdx: Integer arrays (length nMatches) of team indices.\n",
    "      goalsHome, goalsAway: Integer arrays (length nMatches) of goals scored.\n",
    "      weights: A float array (length nMatches) of weights.\n",
    "      nMatches: Number of matches.\n",
    "      \n",
    "    Returns:\n",
    "      The negative log-likelihood.\n",
    "    \"\"\"\n",
    "    cdef int i, idxHome, idxAway, kHome, kAway\n",
    "    cdef double logLikelihood = 0.0\n",
    "    cdef double homeAdvantage = params[2 * nTeams]\n",
    "    cdef double dispersion = params[2 * nTeams + 1]\n",
    "    # Ensure dispersion is at least 1e-5\n",
    "    if dispersion < 1e-5:\n",
    "        dispersion = 1e-5\n",
    "\n",
    "    cdef double lambdaHome, lambdaAway, pHome, pAway\n",
    "    cdef double logP_home, logP_away\n",
    "\n",
    "    # Loop over each match\n",
    "    for i in prange(nMatches, nogil=True):\n",
    "        idxHome = homeIdx[i]\n",
    "        idxAway = awayIdx[i]\n",
    "        # Attack parameters: first nTeams elements; Defence: next nTeams elements\n",
    "        lambdaHome = exp(homeAdvantage + params[idxHome] + params[nTeams + idxAway])\n",
    "        lambdaAway = exp(params[idxAway] + params[nTeams + idxHome])\n",
    "        pHome = dispersion / (dispersion + lambdaHome)\n",
    "        pAway = dispersion / (dispersion + lambdaAway)\n",
    "        kHome = goalsHome[i]\n",
    "        kAway = goalsAway[i]\n",
    "        logP_home = negBinomLogPMF(kHome, dispersion, pHome)\n",
    "        logP_away = negBinomLogPMF(kAway, dispersion, pAway)\n",
    "        # If any computed log likelihood is NaN or Inf, return a very large number\n",
    "        if isnan(logP_home) or isinf(logP_home) or isnan(logP_away) or isinf(logP_away):\n",
    "            return 1e308  # Use a large number to indicate failure\n",
    "        logLikelihood += (logP_home + logP_away) * weights[i]\n",
    "\n",
    "    return -logLikelihood\n"
   ]
  },
  {
   "cell_type": "code",
   "execution_count": 47,
   "metadata": {},
   "outputs": [],
   "source": [
    "import ctypes\n",
    "import warnings\n",
    "\n",
    "import numpy as np\n",
    "from scipy.optimize import minimize\n",
    "\n",
    "from penaltyblog.golib.loss import negative_binomial_loss_function\n",
    "from penaltyblog.golib.probabilities import (\n",
    "    compute_negative_binomial_probabilities,\n",
    ")\n",
    "from penaltyblog.models.base_model import BaseGoalsModel\n",
    "from penaltyblog.models.custom_types import (\n",
    "    GoalInput,\n",
    "    ParamsOutput,\n",
    "    TeamInput,\n",
    "    WeightInput,\n",
    ")\n",
    "from penaltyblog.models.football_probability_grid import (\n",
    "    FootballProbabilityGrid,\n",
    ")\n",
    "\n",
    "\n",
    "class NegativeBinomialGoalModel(BaseGoalsModel):\n",
    "    \"\"\"\n",
    "    Negative Binomial model for predicting outcomes of football (soccer) matches\n",
    "    handling overdispersion in goal data.\n",
    "\n",
    "    Methods\n",
    "    -------\n",
    "    fit()\n",
    "        fits a Negative Binomial model to the data to calculate the team strengths.\n",
    "        Must be called before the model can be used to predict game outcomes\n",
    "\n",
    "    predict(home_team, away_team, max_goals=10)\n",
    "        predicts the probability of each scoreline for a given home and away team\n",
    "\n",
    "    get_params()\n",
    "        provides access to the model's fitted parameters\n",
    "    \"\"\"\n",
    "\n",
    "    def __init__(\n",
    "        self,\n",
    "        goals_home: GoalInput,\n",
    "        goals_away: GoalInput,\n",
    "        teams_home: TeamInput,\n",
    "        teams_away: TeamInput,\n",
    "        weights: WeightInput = None,\n",
    "    ):\n",
    "        \"\"\"\n",
    "        Initialises the NegativeBinomialGoalModel class.\n",
    "\n",
    "        Parameters\n",
    "        ----------\n",
    "        goals_home : array_like\n",
    "            The number of goals scored by the home team\n",
    "        goals_away : array_like\n",
    "            The number of goals scored by the away team\n",
    "        teams_home : array_like\n",
    "            The names of the home teams\n",
    "        teams_away : array_like\n",
    "            The names of the away teams\n",
    "        weights : array_like, optional\n",
    "            The weights of the matches, by default None\n",
    "        \"\"\"\n",
    "        super().__init__(goals_home, goals_away, teams_home, teams_away, weights)\n",
    "\n",
    "        self._params = np.concatenate(\n",
    "            ([1] * self.n_teams, [-1] * self.n_teams, [0.25], [0.1])\n",
    "        )  # Home advantage and dispersion parameter\n",
    "\n",
    "    def __repr__(self):\n",
    "        lines = [\"Module: Penaltyblog\", \"\", \"Model: Negative Binomial\", \"\"]\n",
    "\n",
    "        if not self.fitted:\n",
    "            lines.append(\"Status: Model not fitted\")\n",
    "            return \"\\n\".join(lines)\n",
    "\n",
    "        lines.extend(\n",
    "            [\n",
    "                f\"Number of parameters: {self.n_params}\",\n",
    "                f\"Log Likelihood: {round(self.loglikelihood, 3)}\",\n",
    "                f\"AIC: {round(self.aic, 3)}\",\n",
    "                \"\",\n",
    "                \"{0: <20} {1:<20} {2:<20}\".format(\"Team\", \"Attack\", \"Defence\"),\n",
    "                \"-\" * 60,\n",
    "            ]\n",
    "        )\n",
    "\n",
    "        for idx, team in enumerate(self.teams):\n",
    "            lines.append(\n",
    "                \"{0: <20} {1:<20} {2:<20}\".format(\n",
    "                    team,\n",
    "                    round(self._params[idx], 3),\n",
    "                    round(self._params[idx + self.n_teams], 3),\n",
    "                )\n",
    "            )\n",
    "\n",
    "        lines.extend(\n",
    "            [\n",
    "                \"-\" * 60,\n",
    "                f\"Home Advantage: {round(self._params[-2], 3)}\",\n",
    "                f\"Dispersion: {round(self._params[-1], 3)}\",\n",
    "            ]\n",
    "        )\n",
    "\n",
    "        return \"\\n\".join(lines)\n",
    "\n",
    "    def _loss_function(self, params: np.ndarray) -> float:\n",
    "        \"\"\"\n",
    "        Calculates the negative log-likelihood of the Negative Binomial model.\n",
    "\n",
    "        Parameters\n",
    "        ----------\n",
    "        params : array_like\n",
    "            The parameters of the model\n",
    "        data : dict\n",
    "            The data used to fit the model\n",
    "        n_teams : int\n",
    "            The number of teams in the league\n",
    "\n",
    "        Returns\n",
    "        -------\n",
    "        float\n",
    "            The negative log-likelihood of the Negative Binomial model\n",
    "        \"\"\"\n",
    "        params = np.ascontiguousarray(params, dtype=np.float64)\n",
    "        params_ctypes = params.ctypes.data_as(ctypes.POINTER(ctypes.c_double))     \n",
    "\n",
    "        return compute_negative_binomial_loss(\n",
    "            params,\n",
    "            self.n_teams,\n",
    "            self.home_idx,\n",
    "            self.away_idx,\n",
    "            self.goals_home,\n",
    "            self.goals_away,\n",
    "            self.weights,\n",
    "            len(self.goals_home),\n",
    "        )\n",
    "\n",
    "    def fit(self):\n",
    "        \"\"\"\n",
    "        Fits the Negative Binomial model to the data.\n",
    "        \"\"\"\n",
    "        options = {\"maxiter\": 2500, \"disp\": False}\n",
    "        bounds = [(-2, 2)] * self.n_teams * 2 + [(-4, 4), (1e-5, 1000)]\n",
    "        constraints = [\n",
    "            {\"type\": \"eq\", \"fun\": lambda x: sum(x[: self.n_teams]) - self.n_teams}\n",
    "        ]\n",
    "\n",
    "        with warnings.catch_warnings():\n",
    "            warnings.filterwarnings(\"ignore\")\n",
    "            self._res = minimize(\n",
    "                self._loss_function,\n",
    "                self._params,\n",
    "                bounds=bounds,\n",
    "                constraints=constraints,\n",
    "                options=options,\n",
    "            )\n",
    "\n",
    "        if not self._res.success:\n",
    "            raise ValueError(f\"Optimization failed with message: {self._res.message}\")\n",
    "\n",
    "        self._params = self._res.x\n",
    "        self.n_params = len(self._params)\n",
    "        self.loglikelihood = -self._res.fun\n",
    "        self.aic = -2 * self.loglikelihood + 2 * self.n_params\n",
    "        self.fitted = True\n",
    "\n",
    "    def get_params(self):\n",
    "        pass\n",
    "\n",
    "    def predict():\n",
    "        pass\n",
    "    \n",
    "    \n",
    "\n",
    "    \n"
   ]
  },
  {
   "cell_type": "code",
   "execution_count": 48,
   "metadata": {},
   "outputs": [
    {
     "name": "stdout",
     "output_type": "stream",
     "text": [
      "1.57 s ± 37.7 ms per loop (mean ± std. dev. of 7 runs, 1 loop each)\n"
     ]
    }
   ],
   "source": [
    "%%timeit\n",
    "clf = pb.models.NegativeBinomialGoalModel(\n",
    "    train[\"goals_home\"],\n",
    "    train[\"goals_away\"],\n",
    "    train[\"team_home\"],\n",
    "    train[\"team_away\"],\n",
    ")\n",
    "clf.fit()"
   ]
  },
  {
   "cell_type": "code",
   "execution_count": 49,
   "metadata": {},
   "outputs": [
    {
     "data": {
      "text/plain": [
       "-6894.8293946936665"
      ]
     },
     "execution_count": 49,
     "metadata": {},
     "output_type": "execute_result"
    }
   ],
   "source": [
    "clf = pb.models.NegativeBinomialGoalModel(\n",
    "    train[\"goals_home\"],\n",
    "    train[\"goals_away\"],\n",
    "    train[\"team_home\"],\n",
    "    train[\"team_away\"],\n",
    ")\n",
    "clf.fit()\n",
    "clf.loglikelihood"
   ]
  },
  {
   "cell_type": "code",
   "execution_count": 50,
   "metadata": {},
   "outputs": [
    {
     "name": "stdout",
     "output_type": "stream",
     "text": [
      "998 ms ± 14.2 ms per loop (mean ± std. dev. of 7 runs, 1 loop each)\n"
     ]
    }
   ],
   "source": [
    "%%timeit\n",
    "# Cython version\n",
    "clf = NegativeBinomialGoalModel(\n",
    "    train[\"goals_home\"],\n",
    "    train[\"goals_away\"],\n",
    "    train[\"team_home\"],\n",
    "    train[\"team_away\"],\n",
    ")\n",
    "clf.fit()"
   ]
  },
  {
   "cell_type": "code",
   "execution_count": 51,
   "metadata": {},
   "outputs": [
    {
     "data": {
      "text/plain": [
       "-6894.954007748044"
      ]
     },
     "execution_count": 51,
     "metadata": {},
     "output_type": "execute_result"
    }
   ],
   "source": [
    "clf = NegativeBinomialGoalModel(\n",
    "    train[\"goals_home\"],\n",
    "    train[\"goals_away\"],\n",
    "    train[\"team_home\"],\n",
    "    train[\"team_away\"],\n",
    ")\n",
    "clf.fit()\n",
    "clf.loglikelihood"
   ]
  },
  {
   "cell_type": "code",
   "execution_count": null,
   "metadata": {},
   "outputs": [],
   "source": []
  }
 ],
 "metadata": {
  "kernelspec": {
   "display_name": "venv",
   "language": "python",
   "name": "python3"
  },
  "language_info": {
   "codemirror_mode": {
    "name": "ipython",
    "version": 3
   },
   "file_extension": ".py",
   "mimetype": "text/x-python",
   "name": "python",
   "nbconvert_exporter": "python",
   "pygments_lexer": "ipython3",
   "version": "3.13.1"
  }
 },
 "nbformat": 4,
 "nbformat_minor": 2
}
